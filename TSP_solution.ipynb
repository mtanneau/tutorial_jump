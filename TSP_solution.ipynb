{
 "cells": [
  {
   "cell_type": "code",
   "execution_count": 1,
   "metadata": {},
   "outputs": [
    {
     "name": "stderr",
     "output_type": "stream",
     "text": [
      "┌ Info: Installing packages. This may take up to a few minutes.\n",
      "└ @ Main /home/alexis/Bureau/depots_git/tutorial_jump/setup.jl:1\n"
     ]
    },
    {
     "name": "stdout",
     "output_type": "stream",
     "text": [
      "\u001b[32m\u001b[1m  Updating\u001b[22m\u001b[39m registry at `~/.julia/registries/General`\n",
      "\u001b[32m\u001b[1m  Updating\u001b[22m\u001b[39m git-repo `https://github.com/JuliaRegistries/General.git`\n",
      "\u001b[?25l\u001b[2K\u001b[?25h"
     ]
    },
    {
     "name": "stderr",
     "output_type": "stream",
     "text": [
      "┌ Info: Loading packages\n",
      "└ @ Main /home/alexis/Bureau/depots_git/tutorial_jump/setup.jl:7\n",
      "┌ Info: All packages successfully imported.\n",
      "└ @ Main /home/alexis/Bureau/depots_git/tutorial_jump/setup.jl:23\n"
     ]
    }
   ],
   "source": [
    "include(\"setup.jl\")"
   ]
  },
  {
   "cell_type": "markdown",
   "metadata": {},
   "source": [
    "# Asymmetric Travelling Salesman Problem\n",
    "\n",
    "https://www.movable-type.co.uk/scripts/latlong.html\n",
    "### Problem description\n",
    "\n",
    "$$\n",
    "    \\begin{array}{cl}\n",
    "        \\min_{x} \\ \\ \\ &\n",
    "            \\sum_{i, j} d_{i, j} x_{i, j}\\\\\n",
    "        s.t. &\n",
    "            \\sum_{j} x_{i, j} = 1, \\ \\ \\ \\forall i \\in \\Omega\\\\\n",
    "        &    \\sum_{i} x_{i, j} = 1, \\ \\ \\ \\forall j \\in \\Omega\\\\\n",
    "        &    x_{k,k} = 0 \\ \\ \\ \\forall k \\in \\Omega\\\\\n",
    "        &   \\sum_{i} \\sum_{j \\ne i} x_{i,j} \\le |S| - 1, \\forall S \\subset \\Omega, 2 \\le |S| \\le N-1\\\\\n",
    "        &   x_{i, j} \\in \\{0, 1\\}, \\ \\ \\ \\forall (i,j) \\in \\Omega^2 , i \\ne j\\\\\n",
    "        & \\Omega = \\{1, \\dots, N\\}\n",
    "    \\end{array}\n",
    "$$"
   ]
  },
  {
   "cell_type": "code",
   "execution_count": 2,
   "metadata": {},
   "outputs": [],
   "source": [
    "include(\"tsp/DataReader.jl\")"
   ]
  },
  {
   "cell_type": "code",
   "execution_count": 3,
   "metadata": {},
   "outputs": [
    {
     "data": {
      "text/plain": [
       "9×9 Array{Int64,2}:\n",
       "   0  256  137  152   193  461   542   627   889\n",
       " 256    0  125  209   422  206   313   848   719\n",
       " 137  125    0  143   297  326   424   723   829\n",
       " 152  209  143    0   337  414   484   776   737\n",
       " 193  422  297  337     0  623   720   517  1075\n",
       " 461  206  326  414   623    0   249   840   700\n",
       " 542  313  424  484   720  249     0  1089   511\n",
       " 627  848  723  776   517  840  1089     0  1552\n",
       " 889  719  829  737  1075  700   511  1552     0"
      ]
     },
     "execution_count": 3,
     "metadata": {},
     "output_type": "execute_result"
    }
   ],
   "source": [
    "d = load(string(workspace,\"/tsp/distances_quebec.jld\"),\"distances\")"
   ]
  },
  {
   "cell_type": "code",
   "execution_count": 4,
   "metadata": {},
   "outputs": [
    {
     "data": {
      "text/plain": [
       "9×1 Array{SubString{String},2}:\n",
       " \"Montréal\"      \n",
       " \"Québec\"        \n",
       " \"Trois-Rivières\"\n",
       " \"Sherbrooke\"    \n",
       " \"Hull\"          \n",
       " \"Chicoutimi\"    \n",
       " \"Rimouski\"      \n",
       " \"Rouyn\"         \n",
       " \"Moncton\"       "
      ]
     },
     "execution_count": 4,
     "metadata": {},
     "output_type": "execute_result"
    }
   ],
   "source": [
    "c = load(string(workspace,\"/tsp/cities_quebec.jld\"),\"cities\")"
   ]
  },
  {
   "cell_type": "code",
   "execution_count": 5,
   "metadata": {},
   "outputs": [
    {
     "data": {
      "text/plain": [
       "subtours (generic function with 1 method)"
      ]
     },
     "execution_count": 5,
     "metadata": {},
     "output_type": "execute_result"
    }
   ],
   "source": [
    "function subtours(x::Vector{T}) where T\n",
    "    res = Vector{T}[[]]\n",
    "    for elem in x, j in eachindex(res)\n",
    "        push!(res, [res[j] ; elem])\n",
    "    end\n",
    "    return res\n",
    "end"
   ]
  },
  {
   "cell_type": "code",
   "execution_count": 6,
   "metadata": {},
   "outputs": [
    {
     "data": {
      "text/plain": [
       "32-element Array{Array{Int64,1},1}:\n",
       " []             \n",
       " [1]            \n",
       " [2]            \n",
       " [1, 2]         \n",
       " [3]            \n",
       " [1, 3]         \n",
       " [2, 3]         \n",
       " [1, 2, 3]      \n",
       " [4]            \n",
       " [1, 4]         \n",
       " [2, 4]         \n",
       " [1, 2, 4]      \n",
       " [3, 4]         \n",
       " ⋮              \n",
       " [3, 5]         \n",
       " [1, 3, 5]      \n",
       " [2, 3, 5]      \n",
       " [1, 2, 3, 5]   \n",
       " [4, 5]         \n",
       " [1, 4, 5]      \n",
       " [2, 4, 5]      \n",
       " [1, 2, 4, 5]   \n",
       " [3, 4, 5]      \n",
       " [1, 3, 4, 5]   \n",
       " [2, 3, 4, 5]   \n",
       " [1, 2, 3, 4, 5]"
      ]
     },
     "execution_count": 6,
     "metadata": {},
     "output_type": "execute_result"
    }
   ],
   "source": [
    "subtours([1:5;])"
   ]
  },
  {
   "cell_type": "code",
   "execution_count": 7,
   "metadata": {},
   "outputs": [
    {
     "data": {
      "text/plain": [
       "solve_tsp (generic function with 1 method)"
      ]
     },
     "execution_count": 7,
     "metadata": {},
     "output_type": "execute_result"
    }
   ],
   "source": [
    "function solve_tsp(D, optimizer)\n",
    "    # number of cities\n",
    "    N = size(D, 1)\n",
    "    \n",
    "    # instantiate model\n",
    "    mip = Model(with_optimizer(optimizer))\n",
    "\n",
    "    # Basic formulation\n",
    "    @variable(mip, X[1:N, 1:N], Bin)\n",
    "\n",
    "    # Objective\n",
    "    @objective(mip, Min, sum(X.*D)) # sum(D[i,j] * X[i,j] for i=1:N, j=1:N)\n",
    "\n",
    "    for k in 1:N\n",
    "        @constraint(mip, X[k,k] == 0.0)  # city `k` cannot follow itself in the tour\n",
    "    end\n",
    "\n",
    "    # Each city has one predecessor and one successor\n",
    "    for i in 1:N\n",
    "        @constraint(mip, sum(X[i, j] for j in 1:N) == 1.0)\n",
    "        @constraint(mip, sum(X[j, i] for j in 1:N) == 1.0)\n",
    "    end\n",
    "    \n",
    "    # We only want a cycle of length N.\n",
    "    tours = subtours([1:N;])\n",
    "    for st in tours\n",
    "        T = length(st)\n",
    "        if 2 ≤ T ≤ N-1\n",
    "            @constraint(mip, sum(X[st[k],st[k+1]] for k=1:T-1) + X[st[T],st[1]] ≤ T-1)\n",
    "            @constraint(mip, sum(X[st[k+1],st[k]] for k=1:T-1) + X[st[1],st[T]] ≤ T-1)\n",
    "        end\n",
    "    end\n",
    "\n",
    "    # solve relaxed model\n",
    "    optimize!(mip)\n",
    "\n",
    "    # get solution\n",
    "    return value.(X)\n",
    "end"
   ]
  },
  {
   "cell_type": "code",
   "execution_count": 8,
   "metadata": {},
   "outputs": [
    {
     "name": "stdout",
     "output_type": "stream",
     "text": [
      "Welcome to the CBC MILP Solver \n",
      "Version: 2.9.9 \n",
      "Build Date: Dec 31 2018 \n",
      "\n",
      "command line - Cbc_C_Interface -solve -quit (default strategy 1)\n",
      "Continuous objective value is 3274 - 0.00 seconds\n",
      "Cgl0002I 9 variables fixed\n",
      "Cgl0003I 0 fixed, 0 tightened bounds, 930 strengthened rows, 0 substitutions\n",
      "Cgl0003I 0 fixed, 0 tightened bounds, 762 strengthened rows, 0 substitutions\n",
      "Cgl0003I 0 fixed, 0 tightened bounds, 568 strengthened rows, 0 substitutions\n",
      "Cgl0003I 0 fixed, 0 tightened bounds, 278 strengthened rows, 0 substitutions\n",
      "Cgl0003I 0 fixed, 0 tightened bounds, 51 strengthened rows, 0 substitutions\n",
      "Cgl0003I 0 fixed, 0 tightened bounds, 10 strengthened rows, 0 substitutions\n",
      "Cgl0004I processed model has 984 rows, 72 columns (72 integer (72 of which binary)) and 7243 elements\n",
      "Cutoff increment increased from 1e-05 to 0.9999\n",
      "Cbc0038I Initial state - 21 integers unsatisfied sum - 7\n",
      "Cbc0038I Pass   1: suminf.    0.00000 (0) obj. 4232 iterations 33\n",
      "Cbc0038I Solution found of 4232\n",
      "Cbc0038I Before mini branch and bound, 49 integers at bound fixed and 0 continuous\n",
      "Cbc0038I Full problem 984 rows 72 columns, reduced to 94 rows 14 columns\n",
      "Cbc0038I Mini branch and bound improved solution from 4232 to 3709 (0.15 seconds)\n",
      "Cbc0038I Round again with cutoff of 3668.72\n",
      "Cbc0038I Reduced cost fixing fixed 3 variables on major pass 2\n",
      "Cbc0038I Pass   2: suminf.    0.75037 (16) obj. 3668.72 iterations 21\n",
      "Cbc0038I Pass   3: suminf.    0.47828 (13) obj. 3668.72 iterations 17\n",
      "Cbc0038I Pass   4: suminf.    2.00000 (6) obj. 3466 iterations 28\n",
      "Cbc0038I Pass   5: suminf.    2.00000 (6) obj. 3466 iterations 12\n",
      "Cbc0038I Solution found of 3496\n",
      "Cbc0038I Before mini branch and bound, 44 integers at bound fixed and 0 continuous\n",
      "Cbc0038I Full problem 984 rows 72 columns, reduced to 217 rows 21 columns\n",
      "Cbc0038I Mini branch and bound improved solution from 3496 to 3458 (0.19 seconds)\n",
      "Cbc0038I Round again with cutoff of 3428.63\n",
      "Cbc0038I Reduced cost fixing fixed 32 variables on major pass 3\n",
      "Cbc0038I Pass   6: suminf.    2.39420 (18) obj. 3428.63 iterations 7\n",
      "Cbc0038I Pass   7: suminf.    2.39420 (18) obj. 3428.63 iterations 8\n",
      "Cbc0038I Pass   8: suminf.    5.87150 (21) obj. 3428.63 iterations 14\n",
      "Cbc0038I Pass   9: suminf.    4.77296 (19) obj. 3428.63 iterations 8\n",
      "Cbc0038I Pass  10: suminf.    3.33333 (10) obj. 3413.33 iterations 11\n",
      "Cbc0038I Pass  11: suminf.    2.81550 (12) obj. 3428.63 iterations 18\n",
      "Cbc0038I Pass  12: suminf.    0.00000 (0) obj. 3413 iterations 17\n",
      "Cbc0038I Solution found of 3413\n",
      "Cbc0038I Before mini branch and bound, 41 integers at bound fixed and 0 continuous\n",
      "Cbc0038I Full problem 984 rows 72 columns, reduced to 298 rows 26 columns\n",
      "Cbc0038I Mini branch and bound did not improve solution (0.22 seconds)\n",
      "Cbc0038I Round again with cutoff of 3382.95\n",
      "Cbc0038I Reduced cost fixing fixed 37 variables on major pass 4\n",
      "Cbc0038I Pass  13: suminf.    5.04073 (18) obj. 3382.95 iterations 0\n",
      "Cbc0038I Pass  14: suminf.    5.04073 (18) obj. 3382.95 iterations 7\n",
      "Cbc0038I Pass  15: suminf.    7.00000 (17) obj. 3354.75 iterations 7\n",
      "Cbc0038I Pass  16: suminf.    5.36126 (17) obj. 3382.95 iterations 5\n",
      "Cbc0038I Pass  17: suminf.    5.36126 (17) obj. 3382.95 iterations 5\n",
      "Cbc0038I Pass  18: suminf.    6.00000 (21) obj. 3363.94 iterations 15\n",
      "Cbc0038I Pass  19: suminf.    5.66667 (21) obj. 3382.95 iterations 9\n",
      "Cbc0038I Pass  20: suminf.    5.47294 (15) obj. 3382.95 iterations 12\n",
      "Cbc0038I Pass  21: suminf.    4.71714 (17) obj. 3382.95 iterations 1\n",
      "Cbc0038I Pass  22: suminf.    4.00000 (15) obj. 3350.5 iterations 9\n",
      "Cbc0038I Pass  23: suminf.    4.00000 (18) obj. 3382.95 iterations 4\n",
      "Cbc0038I Pass  24: suminf.    5.72949 (18) obj. 3382.95 iterations 15\n",
      "Cbc0038I Pass  25: suminf.    4.68441 (18) obj. 3382.95 iterations 3\n",
      "Cbc0038I Pass  26: suminf.    4.68441 (18) obj. 3382.95 iterations 1\n",
      "Cbc0038I Pass  27: suminf.    5.38041 (19) obj. 3382.95 iterations 11\n",
      "Cbc0038I Pass  28: suminf.    4.78343 (18) obj. 3382.95 iterations 6\n",
      "Cbc0038I Pass  29: suminf.    4.65158 (21) obj. 3382.95 iterations 5\n",
      "Cbc0038I Pass  30: suminf.    5.50285 (20) obj. 3382.95 iterations 9\n",
      "Cbc0038I Pass  31: suminf.    4.50071 (14) obj. 3382.95 iterations 5\n",
      "Cbc0038I Pass  32: suminf.    3.22920 (16) obj. 3382.95 iterations 8\n",
      "Cbc0038I Pass  33: suminf.    3.22920 (16) obj. 3382.95 iterations 1\n",
      "Cbc0038I Pass  34: suminf.    2.28952 (8) obj. 3382.95 iterations 2\n",
      "Cbc0038I Pass  35: suminf.    2.28952 (8) obj. 3382.95 iterations 3\n",
      "Cbc0038I Pass  36: suminf.    2.66667 (8) obj. 3343 iterations 15\n",
      "Cbc0038I Pass  37: suminf.    5.66667 (19) obj. 3382.95 iterations 15\n",
      "Cbc0038I Pass  38: suminf.    5.66667 (21) obj. 3382.95 iterations 3\n",
      "Cbc0038I Pass  39: suminf.    5.36126 (17) obj. 3382.95 iterations 12\n",
      "Cbc0038I Pass  40: suminf.    5.36126 (17) obj. 3382.95 iterations 1\n",
      "Cbc0038I Pass  41: suminf.    7.00000 (18) obj. 3382.95 iterations 11\n",
      "Cbc0038I Pass  42: suminf.    6.08469 (17) obj. 3382.95 iterations 9\n",
      "Cbc0038I No solution found this major pass\n",
      "Cbc0038I Before mini branch and bound, 41 integers at bound fixed and 0 continuous\n",
      "Cbc0038I Full problem 984 rows 72 columns, reduced to 268 rows 25 columns\n",
      "Cbc0038I Mini branch and bound did not improve solution (0.33 seconds)\n",
      "Cbc0038I After 0.33 seconds - Feasibility pump exiting with objective of 3413 - took 0.19 seconds\n",
      "Cbc0012I Integer solution of 3413 found by feasibility pump after 0 iterations and 0 nodes (0.33 seconds)\n",
      "Cbc0038I Full problem 984 rows 72 columns, reduced to 0 rows 0 columns\n",
      "Cbc0031I 2 added rows had average density of 8.5\n",
      "Cbc0013I At root node, 30 cuts changed objective from 3315.1667 to 3413 in 1 passes\n",
      "Cbc0014I Cut generator 0 (Probing) - 0 row cuts average 0.0 elements, 0 column cuts (0 active)  in 0.002 seconds - new frequency is -100\n",
      "Cbc0014I Cut generator 1 (Gomory) - 8 row cuts average 20.5 elements, 0 column cuts (0 active)  in 0.000 seconds - new frequency is 1\n",
      "Cbc0014I Cut generator 2 (Knapsack) - 0 row cuts average 0.0 elements, 0 column cuts (0 active)  in 0.003 seconds - new frequency is -100\n",
      "Cbc0014I Cut generator 3 (Clique) - 0 row cuts average 0.0 elements, 0 column cuts (0 active)  in 0.000 seconds - new frequency is -100\n",
      "Cbc0014I Cut generator 4 (MixedIntegerRounding2) - 0 row cuts average 0.0 elements, 0 column cuts (0 active)  in 0.001 seconds - new frequency is -100\n",
      "Cbc0014I Cut generator 5 (FlowCover) - 0 row cuts average 0.0 elements, 0 column cuts (0 active)  in 0.000 seconds - new frequency is -100\n",
      "Cbc0014I Cut generator 6 (TwoMirCuts) - 22 row cuts average 11.9 elements, 0 column cuts (0 active)  in 0.001 seconds - new frequency is -100\n",
      "Cbc0001I Search completed - best objective 3413, took 0 iterations and 0 nodes (0.35 seconds)\n",
      "Cbc0035I Maximum depth 0, 32 variables fixed on reduced cost\n",
      "Cuts at root node changed objective from 3315.17 to 3413\n",
      "Probing was tried 1 times and created 0 cuts of which 0 were active after adding rounds of cuts (0.002 seconds)\n",
      "Gomory was tried 1 times and created 8 cuts of which 0 were active after adding rounds of cuts (0.000 seconds)\n",
      "Knapsack was tried 1 times and created 0 cuts of which 0 were active after adding rounds of cuts (0.003 seconds)\n",
      "Clique was tried 1 times and created 0 cuts of which 0 were active after adding rounds of cuts (0.000 seconds)\n",
      "MixedIntegerRounding2 was tried 1 times and created 0 cuts of which 0 were active after adding rounds of cuts (0.001 seconds)\n",
      "FlowCover was tried 1 times and created 0 cuts of which 0 were active after adding rounds of cuts (0.000 seconds)\n",
      "TwoMirCuts was tried 1 times and created 22 cuts of which 0 were active after adding rounds of cuts (0.001 seconds)\n",
      "\n",
      "Result - Optimal solution found\n",
      "\n",
      "Objective value:                3413.00000000\n",
      "Enumerated nodes:               0\n",
      "Total iterations:               0\n",
      "Time (CPU seconds):             0.35\n",
      "Time (Wallclock seconds):       0.36\n",
      "\n",
      "Total time (CPU seconds):       0.35   (Wallclock seconds):       0.36\n",
      "\n"
     ]
    },
    {
     "data": {
      "text/plain": [
       "9×9 Array{Float64,2}:\n",
       " 0.0  0.0  0.0  0.0  1.0  0.0  0.0  0.0  0.0\n",
       " 0.0  0.0  0.0  0.0  0.0  1.0  0.0  0.0  0.0\n",
       " 0.0  1.0  0.0  0.0  0.0  0.0  0.0  0.0  0.0\n",
       " 1.0  0.0  0.0  0.0  0.0  0.0  0.0  0.0  0.0\n",
       " 0.0  0.0  0.0  0.0  0.0  0.0  0.0  1.0  0.0\n",
       " 0.0  0.0  0.0  0.0  0.0  0.0  1.0  0.0  0.0\n",
       " 0.0  0.0  0.0  0.0  0.0  0.0  0.0  0.0  1.0\n",
       " 0.0  0.0  1.0  0.0  0.0  0.0  0.0  0.0  0.0\n",
       " 0.0  0.0  0.0  1.0  0.0  0.0  0.0  0.0  0.0"
      ]
     },
     "execution_count": 8,
     "metadata": {},
     "output_type": "execute_result"
    }
   ],
   "source": [
    "solve_tsp(d, Cbc.Optimizer)"
   ]
  },
  {
   "cell_type": "code",
   "execution_count": 9,
   "metadata": {},
   "outputs": [
    {
     "data": {
      "text/plain": [
       "9×9 Array{Float64,2}:\n",
       " 0.0  0.0  0.0  0.0  1.0  0.0  0.0  0.0  0.0\n",
       " 0.0  0.0  0.0  0.0  0.0  1.0  0.0  0.0  0.0\n",
       " 0.0  1.0  0.0  0.0  0.0  0.0  0.0  0.0  0.0\n",
       " 1.0  0.0  0.0  0.0  0.0  0.0  0.0  0.0  0.0\n",
       " 0.0  0.0  0.0  0.0  0.0  0.0  0.0  1.0  0.0\n",
       " 0.0  0.0  0.0  0.0  0.0  0.0  1.0  0.0  0.0\n",
       " 0.0  0.0  0.0  0.0  0.0  0.0  0.0  0.0  1.0\n",
       " 0.0  0.0  1.0  0.0  0.0  0.0  0.0  0.0  0.0\n",
       " 0.0  0.0  0.0  1.0  0.0  0.0  0.0  0.0  0.0"
      ]
     },
     "execution_count": 9,
     "metadata": {},
     "output_type": "execute_result"
    }
   ],
   "source": [
    "sol = solve_tsp(d, GLPK.Optimizer)"
   ]
  },
  {
   "cell_type": "code",
   "execution_count": 10,
   "metadata": {},
   "outputs": [
    {
     "data": {
      "text/plain": [
       "RoadTrip (generic function with 1 method)"
      ]
     },
     "execution_count": 10,
     "metadata": {},
     "output_type": "execute_result"
    }
   ],
   "source": [
    "include(\"tsp/RoadTrip.jl\")"
   ]
  },
  {
   "cell_type": "code",
   "execution_count": 11,
   "metadata": {},
   "outputs": [
    {
     "name": "stdout",
     "output_type": "stream",
     "text": [
      "Montréal\n",
      "Hull\n",
      "Rouyn\n",
      "Trois-Rivières\n",
      "Québec\n",
      "Chicoutimi\n",
      "Rimouski\n",
      "Moncton\n",
      "Sherbrooke\n"
     ]
    }
   ],
   "source": [
    "RoadTrip(9, c, sol)"
   ]
  },
  {
   "cell_type": "code",
   "execution_count": 12,
   "metadata": {},
   "outputs": [
    {
     "data": {
      "text/plain": [
       "50×50 Array{Float64,2}:\n",
       "    0.0     337.637   490.244   955.884  …  1076.38    934.692   760.766\n",
       "  337.637     0.0     294.552   815.26       823.803   756.247   549.565\n",
       "  490.244   294.552     0.0     521.244     1029.22   1015.7     803.354\n",
       "  955.884   815.26    521.244     0.0       1450.03   1494.81   1284.23 \n",
       " 1046.83    768.442   563.855   473.668     1123.35   1243.23   1053.15 \n",
       " 1194.35    974.112   709.884   338.261  …  1429.45   1535.48   1337.85 \n",
       " 1214.04    993.371   729.554   353.464     1443.14   1551.39   1354.39 \n",
       " 1237.17   1025.66    756.36    348.934     1489.57   1595.09   1396.95 \n",
       " 1335.87   1132.76    859.582   417.102     1594.26   1703.82   1506.36 \n",
       " 1379.23   1179.47    904.898   451.736     1640.1    1751.21   1554.02 \n",
       " 1284.09   1101.31    818.981   342.695  …  1611.54   1705.86   1503.94 \n",
       " 1492.76   1301.22   1023.56    550.322     1760.58   1875.08   1678.44 \n",
       " 1650.46   1464.77   1185.45    700.409     1914.96   2035.56   1840.33 \n",
       "    ⋮                                    ⋱                              \n",
       " 3100.91   2828.37   2970.77   3237.88      2024.69   2207.02   2345.71 \n",
       " 3371.27   3063.9    3147.68   3314.33      2327.72   2556.7    2653.12 \n",
       " 3198.9    2883.38   2949.97   3091.99   …  2178.5    2420.76   2500.43 \n",
       " 2532.79   2240.74   2359.99   2604.06      1470.01   1688.6    1796.34 \n",
       " 2335.68   2113.2    2314.98   2687.74      1291.46   1403.27   1579.48 \n",
       " 1742.81   1566.64   1807.87   2247.22       797.512   815.463  1017.09 \n",
       " 1694.16   1427.76   1596.47   1941.93       618.165   822.732   941.359\n",
       " 1288.85    997.475  1146.48   1492.58   …   279.518   554.183   581.412\n",
       " 1157.68    847.608   970.532  1301.77       309.867   565.91    520.515\n",
       " 1076.38    823.803  1029.22   1450.03         0.0     275.861   326.337\n",
       "  934.692   756.247  1015.7    1494.81       275.861     0.0     212.569\n",
       "  760.766   549.565   803.354  1284.23       326.337   212.569     0.0  "
      ]
     },
     "execution_count": 12,
     "metadata": {},
     "output_type": "execute_result"
    }
   ],
   "source": [
    "d2 = load(string(workspace,\"/tsp/distances_usa.jld\"),\"distances2\")"
   ]
  },
  {
   "cell_type": "code",
   "execution_count": 13,
   "metadata": {},
   "outputs": [
    {
     "data": {
      "text/plain": [
       "50×1 Array{SubString{String},2}:\n",
       " \"Cape Canaveral, FL\"                \n",
       " \"Okefenokee Swamp, GA\"              \n",
       " \"Fort Sumter, SC\"                   \n",
       " \"Wright Brothers Visitor Center, NC\"\n",
       " \"Lost World Caverns, WV\"            \n",
       " \"Mount Vernon, VA\"                  \n",
       " \"White House, DC\"                   \n",
       " \"Maryland State House, MD\"          \n",
       " \"New Castle Historic District, DE\"  \n",
       " \"Liberty Bell, PA\"                  \n",
       " \"Congress Hall, Cape May, NJ\"       \n",
       " \"Statue of Liberty, NY\"             \n",
       " \"Mark Twain House, Hartford, CT\"    \n",
       " ⋮                                   \n",
       " \"Bryce Canyon, UT\"                  \n",
       " \"Craters of the Moon, ID\"           \n",
       " \"Yellowstone, WY\"                   \n",
       " \"Pikes Peak, CO\"                    \n",
       " \"Carlsbad Caverns, NM\"              \n",
       " \"The Alamo, TX\"                     \n",
       " \"Chickasaw, OK\"                     \n",
       " \"Toltec Mounds, AR\"                 \n",
       " \"Graceland, TN\"                     \n",
       " \"Vicksburg, MS\"                     \n",
       " \"French Quarter, New Orleans, LA\"   \n",
       " \"USS Alabama, AL\"                   "
      ]
     },
     "execution_count": 13,
     "metadata": {},
     "output_type": "execute_result"
    }
   ],
   "source": [
    "c2 = load(string(workspace,\"/tsp/cities_usa.jld\"),\"cities2\")"
   ]
  },
  {
   "cell_type": "code",
   "execution_count": 14,
   "metadata": {},
   "outputs": [
    {
     "data": {
      "text/plain": [
       "find_subtours (generic function with 1 method)"
      ]
     },
     "execution_count": 14,
     "metadata": {},
     "output_type": "execute_result"
    }
   ],
   "source": [
    "# Compute sub-tours from tentative tour `X`.\n",
    "function find_subtours(n, X)\n",
    "    (n, n) == size(X) || throw(DimensionMismatch(\n",
    "        \"n=$n but X has size $(size(X)).\"\n",
    "    ))\n",
    "\n",
    "    # List of all sub-tours in `X`\n",
    "    # Empty if `X` is a tour\n",
    "    sub_tours = Vector{Vector{Int}}()\n",
    "\n",
    "    # `f[i]` is the city that follows `i` in the tour\n",
    "    f = zeros(Int, n)\n",
    "    @inbounds for j in 1:n\n",
    "        for i in 1:n\n",
    "            X[i, j] == 1.0 && (f[i] = j; break;)\n",
    "        end\n",
    "    end\n",
    "    \n",
    "    flags = falses(n)\n",
    "    num_seen = 0  \n",
    "    while num_seen < n\n",
    "        first = argmin(flags)  # first city in current tour\n",
    "        flags[first] && break  # all cities have been visited\n",
    "        subtour = [first]\n",
    "        flags[first] = true\n",
    "        num_seen += 1\n",
    "        next = f[first]\n",
    "        next == first && error(\"X[$first, $first] = $(X[first, first]).\")\n",
    "        while next != first\n",
    "            push!(subtour, next)\n",
    "            flags[next] = 1\n",
    "            num_seen += 1\n",
    "            next = f[next]\n",
    "        end\n",
    "\n",
    "        length(subtour) == n && return sub_tours  # X is a tour\n",
    "        # @info \"Found sub-tour: $subtour\"\n",
    "        push!(sub_tours, subtour)\n",
    "    end\n",
    "    \n",
    "    @info \"Found $(length(sub_tours)) sub-tours.\"\n",
    "    return sub_tours\n",
    "\n",
    "end"
   ]
  },
  {
   "cell_type": "code",
   "execution_count": 15,
   "metadata": {},
   "outputs": [
    {
     "data": {
      "text/plain": [
       "add_subtour_elimination! (generic function with 1 method)"
      ]
     },
     "execution_count": 15,
     "metadata": {},
     "output_type": "execute_result"
    }
   ],
   "source": [
    "function add_subtour_elimination!(mip, X, s)\n",
    "\n",
    "    S = length(s)\n",
    "    @constraint(mip, sum(X[s[k], s[(k+1)]] for k in 1:S-1) + X[s[end], s[1]] <= S-1)\n",
    "    @constraint(mip, sum(X[s[k+1], s[k]] for k in 1:S-1) + X[s[1], s[end]] <= S-1)\n",
    "\n",
    "    return nothing\n",
    "end"
   ]
  },
  {
   "cell_type": "code",
   "execution_count": 16,
   "metadata": {},
   "outputs": [
    {
     "data": {
      "text/plain": [
       "solve_tsp2 (generic function with 1 method)"
      ]
     },
     "execution_count": 16,
     "metadata": {},
     "output_type": "execute_result"
    }
   ],
   "source": [
    "function solve_tsp2(n, D, optimizer; itermax = 100)\n",
    "\n",
    "    # instantiate model\n",
    "    mip = Model(with_optimizer(optimizer))\n",
    "\n",
    "    # Basic formulation\n",
    "    @variable(mip, X[1:n, 1:n], Bin)\n",
    "\n",
    "    # Objective\n",
    "    @objective(mip, Min, sum(X.*D))\n",
    "\n",
    "    for i in 1:n\n",
    "        @constraint(mip, X[i, i] == 0.0)  # city `i` cannot follow itself in the tour\n",
    "    end\n",
    "\n",
    "    # Each city has one predecessor and one successor\n",
    "    for i in 1:n\n",
    "        @constraint(mip, sum(X[i, j] for j in 1:n) == 1.0)\n",
    "        @constraint(mip, sum(X[j, i] for j in 1:n) == 1.0)\n",
    "    end\n",
    "\n",
    "    t_start = time()\n",
    "    num_iter = 0\n",
    "    while (time() - t_start < 300.0) && (num_iter < itermax)\n",
    "        num_iter += 1\n",
    "        # solve relaxed model\n",
    "        optimize!(mip)\n",
    "\n",
    "        # get solution\n",
    "        X_ = value.(X)\n",
    "\n",
    "        # find sub-tours\n",
    "        sub_tours = find_subtours(n, X_)\n",
    "\n",
    "        if length(sub_tours) == 0\n",
    "            @info \"Optimal solution found\"\n",
    "            return X_\n",
    "        else\n",
    "            for subtour in sub_tours\n",
    "                add_subtour_elimination!(mip, X, subtour)\n",
    "            end\n",
    "        end\n",
    "    end\n",
    "    \n",
    "    @info \"Time limit reached.\"\n",
    "    return value.(X)\n",
    "end"
   ]
  },
  {
   "cell_type": "code",
   "execution_count": 17,
   "metadata": {},
   "outputs": [
    {
     "name": "stderr",
     "output_type": "stream",
     "text": [
      "┌ Info: Found 21 sub-tours.\n",
      "└ @ Main In[14]:41\n",
      "┌ Info: Found 17 sub-tours.\n",
      "└ @ Main In[14]:41\n",
      "┌ Info: Found 3 sub-tours.\n",
      "└ @ Main In[14]:41\n",
      "┌ Info: Found 4 sub-tours.\n",
      "└ @ Main In[14]:41\n",
      "┌ Info: Found 2 sub-tours.\n",
      "└ @ Main In[14]:41\n",
      "┌ Info: Found 4 sub-tours.\n",
      "└ @ Main In[14]:41\n",
      "┌ Info: Found 3 sub-tours.\n",
      "└ @ Main In[14]:41\n",
      "┌ Info: Found 2 sub-tours.\n",
      "└ @ Main In[14]:41\n",
      "┌ Info: Found 2 sub-tours.\n",
      "└ @ Main In[14]:41\n",
      "┌ Info: Found 2 sub-tours.\n",
      "└ @ Main In[14]:41\n",
      "┌ Info: Found 2 sub-tours.\n",
      "└ @ Main In[14]:41\n",
      "┌ Info: Found 3 sub-tours.\n",
      "└ @ Main In[14]:41\n",
      "┌ Info: Found 3 sub-tours.\n",
      "└ @ Main In[14]:41\n",
      "┌ Info: Optimal solution found\n",
      "└ @ Main In[16]:36\n"
     ]
    },
    {
     "data": {
      "text/plain": [
       "50×50 Array{Float64,2}:\n",
       " 0.0  0.0  1.0  0.0  0.0  0.0  0.0  0.0  …  0.0  0.0  0.0  0.0  0.0  0.0  0.0\n",
       " 1.0  0.0  0.0  0.0  0.0  0.0  0.0  0.0     0.0  0.0  0.0  0.0  0.0  0.0  0.0\n",
       " 0.0  0.0  0.0  1.0  0.0  0.0  0.0  0.0     0.0  0.0  0.0  0.0  0.0  0.0  0.0\n",
       " 0.0  0.0  0.0  0.0  1.0  0.0  0.0  0.0     0.0  0.0  0.0  0.0  0.0  0.0  0.0\n",
       " 0.0  0.0  0.0  0.0  0.0  1.0  0.0  0.0     0.0  0.0  0.0  0.0  0.0  0.0  0.0\n",
       " 0.0  0.0  0.0  0.0  0.0  0.0  1.0  0.0  …  0.0  0.0  0.0  0.0  0.0  0.0  0.0\n",
       " 0.0  0.0  0.0  0.0  0.0  0.0  0.0  1.0     0.0  0.0  0.0  0.0  0.0  0.0  0.0\n",
       " 0.0  0.0  0.0  0.0  0.0  0.0  0.0  0.0     0.0  0.0  0.0  0.0  0.0  0.0  0.0\n",
       " 0.0  0.0  0.0  0.0  0.0  0.0  0.0  0.0     0.0  0.0  0.0  0.0  0.0  0.0  0.0\n",
       " 0.0  0.0  0.0  0.0  0.0  0.0  0.0  0.0     0.0  0.0  0.0  0.0  0.0  0.0  0.0\n",
       " 0.0  0.0  0.0  0.0  0.0  0.0  0.0  0.0  …  0.0  0.0  0.0  0.0  0.0  0.0  0.0\n",
       " 0.0  0.0  0.0  0.0  0.0  0.0  0.0  0.0     0.0  0.0  0.0  0.0  0.0  0.0  0.0\n",
       " 0.0  0.0  0.0  0.0  0.0  0.0  0.0  0.0     0.0  0.0  0.0  0.0  0.0  0.0  0.0\n",
       " ⋮                        ⋮              ⋱            ⋮                      \n",
       " 0.0  0.0  0.0  0.0  0.0  0.0  0.0  0.0     0.0  0.0  0.0  0.0  0.0  0.0  0.0\n",
       " 0.0  0.0  0.0  0.0  0.0  0.0  0.0  0.0     0.0  0.0  0.0  0.0  0.0  0.0  0.0\n",
       " 0.0  0.0  0.0  0.0  0.0  0.0  0.0  0.0  …  0.0  0.0  0.0  0.0  0.0  0.0  0.0\n",
       " 0.0  0.0  0.0  0.0  0.0  0.0  0.0  0.0     0.0  0.0  0.0  0.0  0.0  0.0  0.0\n",
       " 0.0  0.0  0.0  0.0  0.0  0.0  0.0  0.0     1.0  0.0  0.0  0.0  0.0  0.0  0.0\n",
       " 0.0  0.0  0.0  0.0  0.0  0.0  0.0  0.0     0.0  1.0  0.0  0.0  0.0  0.0  0.0\n",
       " 0.0  0.0  0.0  0.0  0.0  0.0  0.0  0.0     0.0  0.0  1.0  0.0  0.0  0.0  0.0\n",
       " 0.0  0.0  0.0  0.0  0.0  0.0  0.0  0.0  …  0.0  0.0  0.0  1.0  0.0  0.0  0.0\n",
       " 0.0  0.0  0.0  0.0  0.0  0.0  0.0  0.0     0.0  0.0  0.0  0.0  1.0  0.0  0.0\n",
       " 0.0  0.0  0.0  0.0  0.0  0.0  0.0  0.0     0.0  0.0  0.0  0.0  0.0  1.0  0.0\n",
       " 0.0  0.0  0.0  0.0  0.0  0.0  0.0  0.0     0.0  0.0  0.0  0.0  0.0  0.0  1.0\n",
       " 0.0  1.0  0.0  0.0  0.0  0.0  0.0  0.0     0.0  0.0  0.0  0.0  0.0  0.0  0.0"
      ]
     },
     "execution_count": 17,
     "metadata": {},
     "output_type": "execute_result"
    }
   ],
   "source": [
    "sol2 = solve_tsp2(50, d2, GLPK.Optimizer)"
   ]
  },
  {
   "cell_type": "code",
   "execution_count": 18,
   "metadata": {},
   "outputs": [
    {
     "name": "stdout",
     "output_type": "stream",
     "text": [
      "Cape Canaveral, FL\n",
      "Fort Sumter, SC\n",
      "Wright Brothers Visitor Center, NC\n",
      "Lost World Caverns, WV\n",
      "Mount Vernon, VA\n",
      "White House, DC\n",
      "Maryland State House, MD\n",
      "Congress Hall, Cape May, NJ\n",
      "New Castle Historic District, DE\n",
      "Liberty Bell, PA\n",
      "Statue of Liberty, NY\n",
      "Mark Twain House, Hartford, CT\n",
      "The Breakers, Newport, RI\n",
      "USS Constitution, Boston, MA\n",
      "Acadia National Park, ME\n",
      "Mount Washington, Bretton Woods, NH\n",
      "Shelburne Farms, VT\n",
      "Olympia Entertainment, Detroit, MI\n",
      "Spring Grove Cemetery, Cincinnati, OH\n",
      "Mammoth Cave National Park, KY\n",
      "West Baden Springs Hotel, IN\n",
      "Gateway Arch, St. Louis, MO\n",
      "Lincoln Visitor Center, IL\n",
      "Taliesin, WI\n",
      "Fort Snelling, MN\n",
      "Terrace Hill, IA\n",
      "C. W. Parker Carousel Museum, KS\n",
      "Ashfall Fossil Bed, NE\n",
      "Mount Rushmore, SD\n",
      "Fort Union Trading Post, ND\n",
      "Yellowstone, WY\n",
      "Craters of the Moon, ID\n",
      "Glacier National Park, MT\n",
      "Hanford Site, WA\n",
      "Columbia River Gorge, OR\n",
      "Cable Car Museum, San Francisco, CA\n",
      "San Andreas Fault, CA\n",
      "Hoover Dam, NV\n",
      "Grand Canyon, AZ\n",
      "Bryce Canyon, UT\n",
      "Pikes Peak, CO\n",
      "Carlsbad Caverns, NM\n",
      "The Alamo, TX\n",
      "Chickasaw, OK\n",
      "Toltec Mounds, AR\n",
      "Graceland, TN\n",
      "Vicksburg, MS\n",
      "French Quarter, New Orleans, LA\n",
      "USS Alabama, AL\n",
      "Okefenokee Swamp, GA\n"
     ]
    }
   ],
   "source": [
    "RoadTrip(50, c2, sol2)"
   ]
  },
  {
   "cell_type": "markdown",
   "metadata": {},
   "source": [
    "![](tsp/solution_usa.png)"
   ]
  }
 ],
 "metadata": {
  "celltoolbar": "Aucun(e)",
  "kernelspec": {
   "display_name": "Julia 1.1.0",
   "language": "julia",
   "name": "julia-1.1"
  },
  "language_info": {
   "file_extension": ".jl",
   "mimetype": "application/julia",
   "name": "julia",
   "version": "1.1.0"
  }
 },
 "nbformat": 4,
 "nbformat_minor": 2
}
