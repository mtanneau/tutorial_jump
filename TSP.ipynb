{
 "cells": [
  {
   "cell_type": "code",
   "execution_count": null,
   "metadata": {},
   "outputs": [],
   "source": [
    "include(\"setup.jl\")"
   ]
  },
  {
   "cell_type": "markdown",
   "metadata": {},
   "source": [
    "# Asymmetric Travelling Salesman Problem\n",
    "\n",
    "https://www.movable-type.co.uk/scripts/latlong.html\n",
    "### Problem description\n",
    "\n",
    "$$\n",
    "    \\begin{array}{cl}\n",
    "        \\min_{x} \\ \\ \\ &\n",
    "            \\sum_{i, j} d_{i, j} x_{i, j}\\\\\n",
    "        s.t. &\n",
    "            \\sum_{j} x_{i, j} = 1, \\ \\ \\ \\forall i \\in \\Omega\\\\\n",
    "        &    \\sum_{i} x_{i, j} = 1, \\ \\ \\ \\forall j \\in \\Omega\\\\\n",
    "        &    x_{k,k} = 0 \\ \\ \\ \\forall k \\in \\Omega\\\\\n",
    "        &   \\sum_{i} \\sum_{j \\ne i} x_{i,j} \\le |S| - 1, \\forall S \\subset \\Omega, 2 \\le |S| \\le N-1\\\\\n",
    "        &   x_{i, j} \\in \\{0, 1\\}, \\ \\ \\ \\forall (i,j) \\in \\Omega^2 , i \\ne j\\\\\n",
    "        & \\Omega = \\{1, \\dots, N\\}\n",
    "    \\end{array}\n",
    "$$"
   ]
  },
  {
   "cell_type": "code",
   "execution_count": null,
   "metadata": {
    "collapsed": true
   },
   "outputs": [],
   "source": [
    "include(\"tsp/DataReader.jl\")"
   ]
  },
  {
   "cell_type": "code",
   "execution_count": null,
   "metadata": {},
   "outputs": [],
   "source": [
    "d = load(string(workspace,\"/tsp/distances_quebec.jld\"),\"distances\")"
   ]
  },
  {
   "cell_type": "code",
   "execution_count": null,
   "metadata": {},
   "outputs": [],
   "source": [
    "c = load(string(workspace,\"/tsp/cities_quebec.jld\"),\"cities\")"
   ]
  },
  {
   "cell_type": "code",
   "execution_count": null,
   "metadata": {},
   "outputs": [],
   "source": [
    "\"\"\"\n",
    "    all_subsets(x)\n",
    "\n",
    "Compute all subsets of elements of vector `x`.\n",
    "\"\"\"\n",
    "function all_subsets(x::Vector{T}) where T\n",
    "    res = Vector{T}[[]]  # Vector of vectors\n",
    "    for elem in x, j in eachindex(res)\n",
    "        push!(res, [res[j] ; elem])\n",
    "    end\n",
    "    return res\n",
    "end"
   ]
  },
  {
   "cell_type": "code",
   "execution_count": null,
   "metadata": {
    "scrolled": true
   },
   "outputs": [],
   "source": [
    "all_subsets([1:5;])"
   ]
  },
  {
   "cell_type": "code",
   "execution_count": null,
   "metadata": {},
   "outputs": [],
   "source": [
    "\"\"\"\n",
    "    solve_tsp(D, optimizer)\n",
    "\n",
    "Compute a shortest TSP tour given then matrix distance `D`.\n",
    "\"\"\"\n",
    "function solve_tsp(D, optimizer)\n",
    "    # Number of cities\n",
    "    N = size(D, 1)\n",
    "    N == size(D, 2) || throw(DimensionMismatch())                     # sanity check: `D` is square\n",
    "    N <= 16 || error(\"N cannot be larger than 16 for memory safety\")  # sanity check: `N` is not too large\n",
    "    \n",
    "    # Instantiate a model\n",
    "    mip = Model(with_optimizer(optimizer))\n",
    "\n",
    "    # I. Create arc variables\n",
    "    @variable(mip, X[1:N, 1:N], Bin)\n",
    "\n",
    "    # II. Set objective\n",
    "    # TODO\n",
    "\n",
    "    # III. Add constraints to the model\n",
    "    \n",
    "    # III.1 \n",
    "    # No city can be its own follower in the tour\n",
    "    # TODO\n",
    "\n",
    "    # III.2\n",
    "    # Each city has one predecessor and one successor\n",
    "    # TODO\n",
    "    \n",
    "    # III.3\n",
    "    # Sub-tour elimination constraints\n",
    "    # TODO\n",
    "\n",
    "    # Solve MIP model\n",
    "    optimize!(mip)\n",
    "    \n",
    "    println(\"Optimal tour length is \", objective_value(mip))\n",
    "\n",
    "    # Return solution\n",
    "    return value.(X)\n",
    "end"
   ]
  },
  {
   "cell_type": "code",
   "execution_count": null,
   "metadata": {},
   "outputs": [],
   "source": [
    "solve_tsp(d, Cbc.Optimizer)"
   ]
  },
  {
   "cell_type": "code",
   "execution_count": null,
   "metadata": {},
   "outputs": [],
   "source": [
    "sol = solve_tsp(d, GLPK.Optimizer)"
   ]
  },
  {
   "cell_type": "code",
   "execution_count": null,
   "metadata": {},
   "outputs": [],
   "source": [
    "include(\"tsp/RoadTrip.jl\")"
   ]
  },
  {
   "cell_type": "code",
   "execution_count": null,
   "metadata": {},
   "outputs": [],
   "source": [
    "RoadTrip(9, c, sol)"
   ]
  },
  {
   "cell_type": "code",
   "execution_count": null,
   "metadata": {},
   "outputs": [],
   "source": [
    "d2 = load(string(workspace,\"/tsp/distances_usa.jld\"),\"distances2\")"
   ]
  },
  {
   "cell_type": "code",
   "execution_count": null,
   "metadata": {},
   "outputs": [],
   "source": [
    "c2 = load(string(workspace,\"/tsp/cities_usa.jld\"),\"cities2\")"
   ]
  },
  {
   "cell_type": "code",
   "execution_count": null,
   "metadata": {},
   "outputs": [],
   "source": [
    "\"\"\"\n",
    "    find_subtours(X)\n",
    "\n",
    "Compute sub-tours from tentative solution `X`.\n",
    "\"\"\"\n",
    "function find_subtours(X; verbose=false)\n",
    "    \n",
    "    N = size(X, 1)\n",
    "    N == size(X, 2) || throw(DimensionMismatch())  # sanity check\n",
    "\n",
    "    # List of all sub-tours in `X`\n",
    "    # Empty if `X` is a tour\n",
    "    sub_tours = Vector{Vector{Int}}()\n",
    "\n",
    "    # Compute all sub-tours\n",
    "    # TODO\n",
    "    \n",
    "    verbose && println(\"Found $(length(sub_tours)) sub-tours.\")\n",
    "    return sub_tours\n",
    "\n",
    "end"
   ]
  },
  {
   "cell_type": "code",
   "execution_count": null,
   "metadata": {},
   "outputs": [],
   "source": [
    "# Some basic unit tests\n",
    "# If a Test fails, there is an error in your implementation\n",
    "# Passing the tests does not mean your implementation is correct!\n",
    "@testset begin\n",
    "    _s1 = find_subtours(\n",
    "        [\n",
    "            [0.0 1.0];\n",
    "            [1.0 0.0]\n",
    "        ]\n",
    "    )  # no sub-tour should be returned here\n",
    "\n",
    "    _s2 = find_subtours(\n",
    "        [\n",
    "            [0.0 1.0 0.0 0.0];\n",
    "            [1.0 0.0 0.0 0.0];\n",
    "            [0.0 0.0 0.0 1.0];\n",
    "            [0.0 0.0 1.0 0.0]\n",
    "        ]\n",
    "    )  # two sub-tours should be returned here\n",
    "    \n",
    "    @test length(_s1) == 0\n",
    "    @test length(_s2) == 2\n",
    "end;"
   ]
  },
  {
   "cell_type": "code",
   "execution_count": null,
   "metadata": {},
   "outputs": [],
   "source": [
    "\"\"\"\n",
    "    add_subtour_elimination!(mip, X, s)\n",
    "\n",
    "Add sub-tour elimination constraint of sub-tour `s`.\n",
    "\"\"\"\n",
    "function add_subtour_elimination!(mip, X, s)\n",
    "    \n",
    "    # TODO\n",
    "\n",
    "    return nothing\n",
    "end"
   ]
  },
  {
   "cell_type": "code",
   "execution_count": null,
   "metadata": {},
   "outputs": [],
   "source": [
    "function solve_tsp2(n, D, optimizer; itermax = 100)\n",
    "\n",
    "    # instantiate model\n",
    "    mip = Model(with_optimizer(optimizer))\n",
    "\n",
    "    # Basic formulation\n",
    "    # TODO\n",
    "\n",
    "    t_start = time()\n",
    "    num_iter = 0\n",
    "    num_subtours = 0\n",
    "    @printf(\"%4s %8s %8s %8s\\n\", \"Iter\", \"LB\", \"#tours\", \"Time\")\n",
    "    \n",
    "    while (time() - t_start < 300.0) && (num_iter < itermax)  # stopping conditions to be safe\n",
    "        num_iter += 1\n",
    "        \n",
    "        # solve relaxed model\n",
    "        optimize!(mip)\n",
    "        # get current objective\n",
    "        objval = objective_value(mip)\n",
    "        \n",
    "        # Log\n",
    "        @printf(\"%4d %8d %8d %8.2f\\n\", num_iter, objval, num_subtours, time() - t_start)\n",
    "\n",
    "        # get solution\n",
    "        X_ = value.(X)\n",
    "\n",
    "        # find sub-tours\n",
    "        sub_tours = find_subtours(X_)\n",
    "        num_subtours += length(sub_tours)\n",
    "\n",
    "        if length(sub_tours) == 0\n",
    "            @printf \"Optimal solution found.\\n\\nOptimal tour length: %8d\" objval\n",
    "            return X_\n",
    "        else\n",
    "            for subtour in sub_tours\n",
    "                add_subtour_elimination!(mip, X, subtour)\n",
    "            end\n",
    "        end\n",
    "    end\n",
    "    \n",
    "    @info \"Stopping criterion reached.\"\n",
    "    return value.(X)\n",
    "end"
   ]
  },
  {
   "cell_type": "code",
   "execution_count": null,
   "metadata": {},
   "outputs": [],
   "source": [
    "sol2 = solve_tsp2(50, d2, GLPK.Optimizer)"
   ]
  },
  {
   "cell_type": "code",
   "execution_count": null,
   "metadata": {},
   "outputs": [],
   "source": [
    "RoadTrip(50, c2, sol2)"
   ]
  },
  {
   "cell_type": "markdown",
   "metadata": {},
   "source": [
    "![](tsp/solution_usa.png)"
   ]
  }
 ],
 "metadata": {
  "celltoolbar": "Aucun(e)",
  "kernelspec": {
   "display_name": "Julia 1.0.1",
   "language": "julia",
   "name": "julia-1.0"
  },
  "language_info": {
   "file_extension": ".jl",
   "mimetype": "application/julia",
   "name": "julia",
   "version": "1.0.1"
  }
 },
 "nbformat": 4,
 "nbformat_minor": 2
}
