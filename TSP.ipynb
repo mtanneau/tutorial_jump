{
 "cells": [
  {
   "cell_type": "code",
   "execution_count": 1,
   "metadata": {},
   "outputs": [
    {
     "name": "stderr",
     "output_type": "stream",
     "text": [
      "┌ Info: Installing packages. This may take up to a few minutes.\n",
      "└ @ Main /home/alexis/Bureau/depots_git/tutorial_jump/setup.jl:1\n"
     ]
    },
    {
     "name": "stdout",
     "output_type": "stream",
     "text": [
      "\u001b[32m\u001b[1m  Updating\u001b[22m\u001b[39m registry at `~/.julia/registries/General`\n",
      "\u001b[32m\u001b[1m  Updating\u001b[22m\u001b[39m git-repo `https://github.com/JuliaRegistries/General.git`\n",
      "\u001b[?25l\u001b[2K\u001b[?25h"
     ]
    },
    {
     "name": "stderr",
     "output_type": "stream",
     "text": [
      "┌ Info: Loading packages\n",
      "└ @ Main /home/alexis/Bureau/depots_git/tutorial_jump/setup.jl:7\n",
      "┌ Info: All packages successfully imported.\n",
      "└ @ Main /home/alexis/Bureau/depots_git/tutorial_jump/setup.jl:21\n"
     ]
    }
   ],
   "source": [
    "include(\"setup.jl\")"
   ]
  },
  {
   "cell_type": "markdown",
   "metadata": {},
   "source": [
    "# Asymmetric Travelling Salesman Problem\n",
    "\n",
    "**Originally Contributed by**: Mathieu Tanneau and Alexis Montoison\n",
    "\n",
    "https://www.movable-type.co.uk/scripts/latlong.html\n",
    "### Problem description\n",
    "\n",
    "$$\n",
    "    \\begin{array}{cl}\n",
    "        \\min_{x} \\ \\ \\ &\n",
    "            \\sum_{i, j} d_{i, j} x_{i, j}\\\\\n",
    "        s.t. &\n",
    "            \\sum_{j} x_{i, j} = 1, \\ \\ \\ \\forall i \\in \\Omega\\\\\n",
    "        &    \\sum_{i} x_{i, j} = 1, \\ \\ \\ \\forall j \\in \\Omega\\\\\n",
    "        &    x_{k,k} = 0 \\ \\ \\ \\forall k \\in \\Omega\\\\\n",
    "        &   \\sum_{i} \\sum_{j \\ne i} x_{i,j} \\le |S| - 1, \\forall S \\subset \\Omega, 2 \\le |S| \\le N-1\\\\\n",
    "        &   x_{i, j} \\in \\{0, 1\\}, \\ \\ \\ \\forall (i,j) \\in \\Omega^2 , i \\ne j\\\\\n",
    "        & \\Omega = \\{1, \\dots, N\\}\n",
    "    \\end{array}\n",
    "$$"
   ]
  },
  {
   "cell_type": "code",
   "execution_count": 2,
   "metadata": {},
   "outputs": [
    {
     "data": {
      "text/plain": [
       "9×9 Array{Float64,2}:\n",
       "   0.0  256.0  137.0  152.0   193.0  461.0   542.0   627.0   889.0\n",
       " 256.0    0.0  125.0  209.0   422.0  206.0   313.0   848.0   719.0\n",
       " 137.0  125.0    0.0  143.0   297.0  326.0   424.0   723.0   829.0\n",
       " 152.0  209.0  143.0    0.0   337.0  414.0   484.0   776.0   737.0\n",
       " 193.0  422.0  297.0  337.0     0.0  623.0   720.0   517.0  1075.0\n",
       " 461.0  206.0  326.0  414.0   623.0    0.0   249.0   840.0   700.0\n",
       " 542.0  313.0  424.0  484.0   720.0  249.0     0.0  1089.0   511.0\n",
       " 627.0  848.0  723.0  776.0   517.0  840.0  1089.0     0.0  1552.0\n",
       " 889.0  719.0  829.0  737.0  1075.0  700.0   511.0  1552.0     0.0"
      ]
     },
     "execution_count": 2,
     "metadata": {},
     "output_type": "execute_result"
    }
   ],
   "source": [
    "d = readdlm(\"./tsp/distances_quebec.txt\")"
   ]
  },
  {
   "cell_type": "code",
   "execution_count": 3,
   "metadata": {},
   "outputs": [
    {
     "data": {
      "text/plain": [
       "9×1 Array{Any,2}:\n",
       " \"Montréal\"      \n",
       " \"Québec\"        \n",
       " \"Trois-Rivières\"\n",
       " \"Sherbrooke\"    \n",
       " \"Hull\"          \n",
       " \"Chicoutimi\"    \n",
       " \"Rimouski\"      \n",
       " \"Rouyn\"         \n",
       " \"Moncton\"       "
      ]
     },
     "execution_count": 3,
     "metadata": {},
     "output_type": "execute_result"
    }
   ],
   "source": [
    "c = readdlm(\"./tsp/cities_quebec.txt\")"
   ]
  },
  {
   "cell_type": "code",
   "execution_count": 4,
   "metadata": {},
   "outputs": [
    {
     "data": {
      "text/plain": [
       "all_subsets"
      ]
     },
     "execution_count": 4,
     "metadata": {},
     "output_type": "execute_result"
    }
   ],
   "source": [
    "\"\"\"\n",
    "    all_subsets(x)\n",
    "\n",
    "Compute all subsets of elements of vector `x`.\n",
    "\"\"\"\n",
    "function all_subsets(x::Vector{T}) where T\n",
    "    res = Vector{T}[[]]  # Vector of vectors\n",
    "    for elem in x, j in eachindex(res)\n",
    "        push!(res, [res[j] ; elem])\n",
    "    end\n",
    "    return res\n",
    "end"
   ]
  },
  {
   "cell_type": "code",
   "execution_count": 5,
   "metadata": {
    "scrolled": true
   },
   "outputs": [
    {
     "data": {
      "text/plain": [
       "32-element Array{Array{Int64,1},1}:\n",
       " []             \n",
       " [1]            \n",
       " [2]            \n",
       " [1, 2]         \n",
       " [3]            \n",
       " [1, 3]         \n",
       " [2, 3]         \n",
       " [1, 2, 3]      \n",
       " [4]            \n",
       " [1, 4]         \n",
       " [2, 4]         \n",
       " [1, 2, 4]      \n",
       " [3, 4]         \n",
       " ⋮              \n",
       " [3, 5]         \n",
       " [1, 3, 5]      \n",
       " [2, 3, 5]      \n",
       " [1, 2, 3, 5]   \n",
       " [4, 5]         \n",
       " [1, 4, 5]      \n",
       " [2, 4, 5]      \n",
       " [1, 2, 4, 5]   \n",
       " [3, 4, 5]      \n",
       " [1, 3, 4, 5]   \n",
       " [2, 3, 4, 5]   \n",
       " [1, 2, 3, 4, 5]"
      ]
     },
     "execution_count": 5,
     "metadata": {},
     "output_type": "execute_result"
    }
   ],
   "source": [
    "all_subsets([1:5;])"
   ]
  },
  {
   "cell_type": "code",
   "execution_count": 6,
   "metadata": {},
   "outputs": [
    {
     "data": {
      "text/plain": [
       "solve_tsp"
      ]
     },
     "execution_count": 6,
     "metadata": {},
     "output_type": "execute_result"
    }
   ],
   "source": [
    "\"\"\"\n",
    "    solve_tsp(D, optimizer)\n",
    "\n",
    "Compute a shortest TSP tour given then matrix distance `D`.\n",
    "\"\"\"\n",
    "function solve_tsp(D, optimizer)\n",
    "    # Number of cities\n",
    "    N = size(D, 1)\n",
    "    N == size(D, 2) || throw(DimensionMismatch())                     # sanity check: `D` is square\n",
    "    N <= 16 || error(\"N cannot be larger than 16 for memory safety\")  # sanity check: `N` is not too large\n",
    "    \n",
    "    # Instantiate a model\n",
    "    mip = Model(with_optimizer(optimizer))\n",
    "\n",
    "    # I. Create arc variables\n",
    "    @variable(mip, X[1:N, 1:N], Bin)\n",
    "\n",
    "    # II. Set objective\n",
    "    @objective(mip, Min, sum(X.*D)) # sum(D[i,j] * X[i,j] for i=1:N, j=1:N)\n",
    "\n",
    "    # III. Add constraints to the model\n",
    "    \n",
    "    # III.1 \n",
    "    # No city can be its own follower in the tour\n",
    "    for k in 1:N\n",
    "        @constraint(mip, X[k,k] == 0.0)\n",
    "    end\n",
    "\n",
    "    # III.2\n",
    "    # Each city has one predecessor and one successor\n",
    "    for i in 1:N\n",
    "        @constraint(mip, sum(X[i, j] for j in 1:N) == 1.0)\n",
    "        @constraint(mip, sum(X[j, i] for j in 1:N) == 1.0)\n",
    "    end\n",
    "    \n",
    "    # III.3\n",
    "    # We only want a cycle of length N\n",
    "    tours = all_subsets([1:N;])\n",
    "    for st in tours\n",
    "        T = length(st)\n",
    "        # Sub-tour elimination constraints\n",
    "        if 2 ≤ T ≤ N-1\n",
    "            @constraint(mip, sum(X[st[k],st[k+1]] for k=1:T-1) + X[st[T],st[1]] ≤ T-1)\n",
    "            @constraint(mip, sum(X[st[k+1],st[k]] for k=1:T-1) + X[st[1],st[T]] ≤ T-1)\n",
    "        end\n",
    "    end\n",
    "    \n",
    "    # Solve MIP model\n",
    "    optimize!(mip)\n",
    "    \n",
    "    println(\"Optimal tour length is \", objective_value(mip))\n",
    "\n",
    "    # Return solution\n",
    "    return value.(X)\n",
    "end"
   ]
  },
  {
   "cell_type": "code",
   "execution_count": 7,
   "metadata": {},
   "outputs": [
    {
     "name": "stdout",
     "output_type": "stream",
     "text": [
      "Welcome to the CBC MILP Solver \n",
      "Version: 2.9.9 \n",
      "Build Date: Dec 31 2018 \n",
      "\n",
      "command line - Cbc_C_Interface -solve -quit (default strategy 1)\n",
      "Continuous objective value is 3274 - 0.00 seconds\n",
      "Cgl0002I 9 variables fixed\n",
      "Cgl0003I 0 fixed, 0 tightened bounds, 930 strengthened rows, 0 substitutions\n",
      "Cgl0003I 0 fixed, 0 tightened bounds, 762 strengthened rows, 0 substitutions\n",
      "Cgl0003I 0 fixed, 0 tightened bounds, 583 strengthened rows, 0 substitutions\n",
      "Cgl0003I 0 fixed, 0 tightened bounds, 150 strengthened rows, 0 substitutions\n",
      "Cgl0003I 0 fixed, 0 tightened bounds, 13 strengthened rows, 0 substitutions\n",
      "Cgl0003I 0 fixed, 0 tightened bounds, 1 strengthened rows, 0 substitutions\n",
      "Cgl0004I processed model has 984 rows, 72 columns (72 integer (72 of which binary)) and 7083 elements\n",
      "Cutoff increment increased from 1e-05 to 0.9999\n",
      "Cbc0038I Initial state - 19 integers unsatisfied sum - 6.33333\n",
      "Cbc0038I Pass   1: suminf.    0.00000 (0) obj. 3901 iterations 35\n",
      "Cbc0038I Solution found of 3901\n",
      "Cbc0038I Before mini branch and bound, 50 integers at bound fixed and 0 continuous\n",
      "Cbc0038I Full problem 984 rows 72 columns, reduced to 0 rows 0 columns\n",
      "Cbc0038I Mini branch and bound improved solution from 3901 to 3605 (0.25 seconds)\n",
      "Cbc0038I Round again with cutoff of 3574.43\n",
      "Cbc0038I Reduced cost fixing fixed 11 variables on major pass 2\n",
      "Cbc0038I Pass   2: suminf.    2.91686 (9) obj. 3574.43 iterations 23\n",
      "Cbc0038I Pass   3: suminf.    2.66667 (8) obj. 3499 iterations 25\n",
      "Cbc0038I Pass   4: suminf.    0.70720 (11) obj. 3574.43 iterations 35\n",
      "Cbc0038I Pass   5: suminf.    0.00000 (0) obj. 3421 iterations 29\n",
      "Cbc0038I Solution found of 3421\n",
      "Cbc0038I Before mini branch and bound, 47 integers at bound fixed and 0 continuous\n",
      "Cbc0038I Full problem 984 rows 72 columns, reduced to 0 rows 0 columns\n",
      "Cbc0038I Mini branch and bound did not improve solution (0.28 seconds)\n",
      "Cbc0038I Round again with cutoff of 3397.67\n",
      "Cbc0038I Reduced cost fixing fixed 29 variables on major pass 3\n",
      "Cbc0038I Pass   6: suminf.    4.82667 (23) obj. 3397.67 iterations 22\n",
      "Cbc0038I Pass   7: suminf.    4.79728 (23) obj. 3397.67 iterations 5\n",
      "Cbc0038I Pass   8: suminf.    2.66667 (8) obj. 3345.67 iterations 13\n",
      "Cbc0038I Pass   9: suminf.    2.66667 (8) obj. 3345.67 iterations 0\n",
      "Cbc0038I Pass  10: suminf.    1.39601 (9) obj. 3397.67 iterations 11\n",
      "Cbc0038I Pass  11: suminf.    1.16825 (8) obj. 3397.67 iterations 8\n",
      "Cbc0038I Pass  12: suminf.    1.06270 (9) obj. 3397.67 iterations 5\n",
      "Cbc0038I Pass  13: suminf.    1.65191 (8) obj. 3397.67 iterations 10\n",
      "Cbc0038I Pass  14: suminf.    1.39601 (9) obj. 3397.67 iterations 7\n",
      "Cbc0038I Pass  15: suminf.    2.13197 (16) obj. 3397.67 iterations 16\n",
      "Cbc0038I Pass  16: suminf.    1.39601 (9) obj. 3397.67 iterations 14\n",
      "Cbc0038I Pass  17: suminf.    1.39601 (9) obj. 3397.67 iterations 11\n",
      "Cbc0038I Pass  18: suminf.    3.05006 (11) obj. 3397.67 iterations 17\n",
      "Cbc0038I Pass  19: suminf.    2.66667 (8) obj. 3343 iterations 14\n",
      "Cbc0038I Pass  20: suminf.    2.68581 (11) obj. 3397.67 iterations 20\n",
      "Cbc0038I Pass  21: suminf.    2.66667 (8) obj. 3343 iterations 6\n",
      "Cbc0038I Pass  22: suminf.    3.00000 (11) obj. 3397.67 iterations 10\n",
      "Cbc0038I Pass  23: suminf.    3.00000 (11) obj. 3397.67 iterations 6\n",
      "Cbc0038I Pass  24: suminf.    1.16825 (8) obj. 3397.67 iterations 22\n",
      "Cbc0038I Pass  25: suminf.    1.06270 (9) obj. 3397.67 iterations 2\n",
      "Cbc0038I Pass  26: suminf.    1.65191 (8) obj. 3397.67 iterations 16\n",
      "Cbc0038I Pass  27: suminf.    1.39601 (9) obj. 3397.67 iterations 8\n",
      "Cbc0038I Pass  28: suminf.    1.16825 (8) obj. 3397.67 iterations 7\n",
      "Cbc0038I Pass  29: suminf.    1.16825 (8) obj. 3397.67 iterations 10\n",
      "Cbc0038I Pass  30: suminf.    1.06270 (9) obj. 3397.67 iterations 5\n",
      "Cbc0038I Pass  31: suminf.    3.09325 (11) obj. 3397.67 iterations 12\n",
      "Cbc0038I Pass  32: suminf.    2.66667 (8) obj. 3345.67 iterations 13\n",
      "Cbc0038I Pass  33: suminf.    2.66667 (8) obj. 3345.67 iterations 11\n",
      "Cbc0038I Pass  34: suminf.    2.66667 (8) obj. 3345.67 iterations 2\n",
      "Cbc0038I Pass  35: suminf.    2.74818 (9) obj. 3397.67 iterations 7\n",
      "Cbc0038I No solution found this major pass\n",
      "Cbc0038I Before mini branch and bound, 37 integers at bound fixed and 0 continuous\n",
      "Cbc0038I Full problem 984 rows 72 columns, reduced to 496 rows 33 columns - 1 fixed gives 196, 17 - ok now\n",
      "Cbc0038I Full problem 984 rows 72 columns, reduced to 118 rows 13 columns\n",
      "Cbc0038I Mini branch and bound improved solution from 3421 to 3413 (0.37 seconds)\n",
      "Cbc0038I Round again with cutoff of 3370.87\n",
      "Cbc0038I Reduced cost fixing fixed 37 variables on major pass 4\n",
      "Cbc0038I Pass  35: suminf.    5.66667 (22) obj. 3370.87 iterations 12\n",
      "Cbc0038I Pass  36: suminf.    2.71396 (9) obj. 3370.87 iterations 16\n",
      "Cbc0038I Pass  37: suminf.    2.71396 (9) obj. 3370.87 iterations 4\n",
      "Cbc0038I Pass  38: suminf.    3.21015 (8) obj. 3370.87 iterations 5\n",
      "Cbc0038I Pass  39: suminf.    2.66864 (9) obj. 3370.87 iterations 4\n",
      "Cbc0038I Pass  40: suminf.    2.66864 (9) obj. 3370.87 iterations 2\n",
      "Cbc0038I Pass  41: suminf.    2.71396 (9) obj. 3370.87 iterations 3\n",
      "Cbc0038I Pass  42: suminf.    2.71396 (9) obj. 3370.87 iterations 0\n",
      "Cbc0038I Pass  43: suminf.    3.21015 (8) obj. 3370.87 iterations 4\n",
      "Cbc0038I Pass  44: suminf.    2.66864 (9) obj. 3370.87 iterations 3\n",
      "Cbc0038I Pass  45: suminf.    2.66864 (9) obj. 3370.87 iterations 2\n",
      "Cbc0038I Pass  46: suminf.    2.71396 (9) obj. 3370.87 iterations 3\n",
      "Cbc0038I Pass  47: suminf.    2.71396 (9) obj. 3370.87 iterations 0\n",
      "Cbc0038I Pass  48: suminf.    3.21015 (8) obj. 3370.87 iterations 4\n",
      "Cbc0038I Pass  49: suminf.    2.66864 (9) obj. 3370.87 iterations 3\n",
      "Cbc0038I Pass  50: suminf.    2.66864 (9) obj. 3370.87 iterations 2\n",
      "Cbc0038I Pass  51: suminf.    2.71396 (9) obj. 3370.87 iterations 5\n",
      "Cbc0038I Pass  52: suminf.    2.71396 (9) obj. 3370.87 iterations 4\n",
      "Cbc0038I Pass  53: suminf.    3.21015 (8) obj. 3370.87 iterations 6\n",
      "Cbc0038I Pass  54: suminf.    2.66864 (9) obj. 3370.87 iterations 6\n",
      "Cbc0038I Pass  55: suminf.    2.66864 (9) obj. 3370.87 iterations 2\n",
      "Cbc0038I Pass  56: suminf.    2.71396 (9) obj. 3370.87 iterations 11\n",
      "Cbc0038I Pass  57: suminf.    2.71396 (9) obj. 3370.87 iterations 3\n",
      "Cbc0038I Pass  58: suminf.    3.21015 (8) obj. 3370.87 iterations 9\n",
      "Cbc0038I Pass  59: suminf.    2.66864 (9) obj. 3370.87 iterations 8\n",
      "Cbc0038I Pass  60: suminf.    2.66864 (9) obj. 3370.87 iterations 2\n",
      "Cbc0038I Pass  61: suminf.    2.71396 (9) obj. 3370.87 iterations 7\n",
      "Cbc0038I Pass  62: suminf.    2.71396 (9) obj. 3370.87 iterations 7\n",
      "Cbc0038I Pass  63: suminf.    3.21015 (8) obj. 3370.87 iterations 8\n",
      "Cbc0038I Pass  64: suminf.    2.66864 (9) obj. 3370.87 iterations 9\n",
      "Cbc0038I No solution found this major pass\n",
      "Cbc0038I Before mini branch and bound, 46 integers at bound fixed and 0 continuous\n",
      "Cbc0038I Full problem 984 rows 72 columns, reduced to 163 rows 17 columns\n",
      "Cbc0038I Mini branch and bound did not improve solution (0.44 seconds)\n",
      "Cbc0038I After 0.44 seconds - Feasibility pump exiting with objective of 3413 - took 0.21 seconds\n",
      "Cbc0012I Integer solution of 3413 found by feasibility pump after 0 iterations and 0 nodes (0.44 seconds)\n",
      "Optimal tour length is 3413.0\n",
      "Cbc0006I The LP relaxation is infeasible or too expensive\n",
      "Cbc0031I 1 added rows had average density of 10\n",
      "Cbc0013I At root node, 2 cuts changed objective from 3308.3333 to 3413 in 2 passes\n",
      "Cbc0014I Cut generator 0 (Probing) - 6 row cuts average 2.0 elements, 3 column cuts (3 active)  in 0.003 seconds - new frequency is 1\n",
      "Cbc0014I Cut generator 1 (Gomory) - 2 row cuts average 19.0 elements, 0 column cuts (0 active)  in 0.000 seconds - new frequency is 1\n",
      "Cbc0014I Cut generator 2 (Knapsack) - 0 row cuts average 0.0 elements, 0 column cuts (0 active)  in 0.003 seconds - new frequency is -100\n",
      "Cbc0014I Cut generator 3 (Clique) - 0 row cuts average 0.0 elements, 0 column cuts (0 active)  in 0.000 seconds - new frequency is -100\n",
      "Cbc0014I Cut generator 4 (MixedIntegerRounding2) - 0 row cuts average 0.0 elements, 0 column cuts (0 active)  in 0.001 seconds - new frequency is -100\n",
      "Cbc0014I Cut generator 5 (FlowCover) - 0 row cuts average 0.0 elements, 0 column cuts (0 active)  in 0.000 seconds - new frequency is -100\n",
      "Cbc0014I Cut generator 6 (TwoMirCuts) - 18 row cuts average 15.5 elements, 0 column cuts (0 active)  in 0.001 seconds - new frequency is -100\n",
      "Cbc0001I Search completed - best objective 3413, took 7 iterations and 0 nodes (0.46 seconds)\n",
      "Cbc0035I Maximum depth 0, 37 variables fixed on reduced cost\n",
      "Cuts at root node changed objective from 3308.33 to 3413\n",
      "Probing was tried 2 times and created 9 cuts of which 0 were active after adding rounds of cuts (0.003 seconds)\n",
      "Gomory was tried 1 times and created 2 cuts of which 0 were active after adding rounds of cuts (0.000 seconds)\n",
      "Knapsack was tried 1 times and created 0 cuts of which 0 were active after adding rounds of cuts (0.003 seconds)\n",
      "Clique was tried 1 times and created 0 cuts of which 0 were active after adding rounds of cuts (0.000 seconds)\n",
      "MixedIntegerRounding2 was tried 1 times and created 0 cuts of which 0 were active after adding rounds of cuts (0.001 seconds)\n",
      "FlowCover was tried 1 times and created 0 cuts of which 0 were active after adding rounds of cuts (0.000 seconds)\n",
      "TwoMirCuts was tried 1 times and created 18 cuts of which 0 were active after adding rounds of cuts (0.001 seconds)\n",
      "\n",
      "Result - Optimal solution found\n",
      "\n",
      "Objective value:                3413.00000000\n",
      "Enumerated nodes:               0\n",
      "Total iterations:               7\n",
      "Time (CPU seconds):             0.47\n",
      "Time (Wallclock seconds):       0.48\n",
      "\n",
      "Total time (CPU seconds):       0.47   (Wallclock seconds):       0.48\n",
      "\n"
     ]
    },
    {
     "data": {
      "text/plain": [
       "9×9 Array{Float64,2}:\n",
       " 0.0  0.0  0.0  1.0  0.0  0.0  0.0  0.0  0.0\n",
       " 0.0  0.0  1.0  0.0  0.0  0.0  0.0  0.0  0.0\n",
       " 0.0  0.0  0.0  0.0  0.0  0.0  0.0  1.0  0.0\n",
       " 0.0  0.0  0.0  0.0  0.0  0.0  0.0  0.0  1.0\n",
       " 1.0  0.0  0.0  0.0  0.0  0.0  0.0  0.0  0.0\n",
       " 0.0  1.0  0.0  0.0  0.0  0.0  0.0  0.0  0.0\n",
       " 0.0  0.0  0.0  0.0  0.0  1.0  0.0  0.0  0.0\n",
       " 0.0  0.0  0.0  0.0  1.0  0.0  0.0  0.0  0.0\n",
       " 0.0  0.0  0.0  0.0  0.0  0.0  1.0  0.0  0.0"
      ]
     },
     "execution_count": 7,
     "metadata": {},
     "output_type": "execute_result"
    }
   ],
   "source": [
    "solve_tsp(d, Cbc.Optimizer)"
   ]
  },
  {
   "cell_type": "code",
   "execution_count": 8,
   "metadata": {},
   "outputs": [
    {
     "name": "stdout",
     "output_type": "stream",
     "text": [
      "Optimal tour length is 3413.0\n"
     ]
    },
    {
     "data": {
      "text/plain": [
       "9×9 Array{Float64,2}:\n",
       " 0.0  0.0  0.0  1.0  0.0  0.0  0.0  0.0  0.0\n",
       " 0.0  0.0  1.0  0.0  0.0  0.0  0.0  0.0  0.0\n",
       " 0.0  0.0  0.0  0.0  0.0  0.0  0.0  1.0  0.0\n",
       " 0.0  0.0  0.0  0.0  0.0  0.0  0.0  0.0  1.0\n",
       " 1.0  0.0  0.0  0.0  0.0  0.0  0.0  0.0  0.0\n",
       " 0.0  1.0  0.0  0.0  0.0  0.0  0.0  0.0  0.0\n",
       " 0.0  0.0  0.0  0.0  0.0  1.0  0.0  0.0  0.0\n",
       " 0.0  0.0  0.0  0.0  1.0  0.0  0.0  0.0  0.0\n",
       " 0.0  0.0  0.0  0.0  0.0  0.0  1.0  0.0  0.0"
      ]
     },
     "execution_count": 8,
     "metadata": {},
     "output_type": "execute_result"
    }
   ],
   "source": [
    "sol = solve_tsp(d, GLPK.Optimizer)"
   ]
  },
  {
   "cell_type": "code",
   "execution_count": 9,
   "metadata": {},
   "outputs": [
    {
     "data": {
      "text/plain": [
       "RoadTrip (generic function with 1 method)"
      ]
     },
     "execution_count": 9,
     "metadata": {},
     "output_type": "execute_result"
    }
   ],
   "source": [
    "include(\"tsp/RoadTrip.jl\")"
   ]
  },
  {
   "cell_type": "code",
   "execution_count": 10,
   "metadata": {},
   "outputs": [
    {
     "name": "stdout",
     "output_type": "stream",
     "text": [
      "Montréal\n",
      "Sherbrooke\n",
      "Moncton\n",
      "Rimouski\n",
      "Chicoutimi\n",
      "Québec\n",
      "Trois-Rivières\n",
      "Rouyn\n",
      "Hull\n"
     ]
    }
   ],
   "source": [
    "RoadTrip(9, c, sol)"
   ]
  },
  {
   "cell_type": "markdown",
   "metadata": {},
   "source": [
    "![](tsp/solution_quebec.png)"
   ]
  }
 ],
 "metadata": {
  "@webio": {
   "lastCommId": null,
   "lastKernelId": null
  },
  "celltoolbar": "Aucun(e)",
  "kernelspec": {
   "display_name": "Julia 1.1.1",
   "language": "julia",
   "name": "julia-1.1"
  },
  "language_info": {
   "file_extension": ".jl",
   "mimetype": "application/julia",
   "name": "julia",
   "version": "1.1.1"
  }
 },
 "nbformat": 4,
 "nbformat_minor": 2
}
