{
 "cells": [
  {
   "cell_type": "code",
   "execution_count": null,
   "metadata": {},
   "outputs": [],
   "source": [
    "include(\"setup.jl\")"
   ]
  },
  {
   "cell_type": "code",
   "execution_count": null,
   "metadata": {},
   "outputs": [],
   "source": [
    "using ExcelReaders"
   ]
  },
  {
   "cell_type": "code",
   "execution_count": null,
   "metadata": {},
   "outputs": [],
   "source": [
    "workspace = pwd()\n",
    "f = openxl(string(workspace,\"/tsp/roadtrip_quebec.xls\"))"
   ]
  },
  {
   "cell_type": "code",
   "execution_count": null,
   "metadata": {},
   "outputs": [],
   "source": [
    "data_cities = readxl(f, \"Donnees!A9:A17\")"
   ]
  },
  {
   "cell_type": "code",
   "execution_count": null,
   "metadata": {},
   "outputs": [],
   "source": [
    "c = map(strip, data_cities)"
   ]
  },
  {
   "cell_type": "code",
   "execution_count": null,
   "metadata": {},
   "outputs": [],
   "source": [
    "data_distances = readxl(f, \"Donnees!C9:K17\")"
   ]
  },
  {
   "cell_type": "code",
   "execution_count": null,
   "metadata": {},
   "outputs": [],
   "source": [
    "nb_row, nb_col = size(data)\n",
    "distances = zeros(Int, nb_row, nb_col)\n",
    "for i = 1:nb_row\n",
    "    for j = 1:nb_col\n",
    "        distances[i,j] = Int(data_distances[i,j])\n",
    "    end\n",
    "end\n",
    "distances"
   ]
  },
  {
   "cell_type": "code",
   "execution_count": null,
   "metadata": {},
   "outputs": [],
   "source": [
    "using JLD"
   ]
  },
  {
   "cell_type": "code",
   "execution_count": null,
   "metadata": {},
   "outputs": [],
   "source": [
    "save(string(workspace,\"/tsp/distances.jld\"),\"dist\",distances)\n",
    "save(string(workspace,\"/tsp/cities.jld\"),\"cities\",c)"
   ]
  },
  {
   "cell_type": "code",
   "execution_count": null,
   "metadata": {},
   "outputs": [],
   "source": [
    "d = load(string(workspace,\"/tsp/distances.jld\"),\"dist\")\n",
    "c = load(string(workspace,\"/tsp/cities.jld\"),\"cities\")"
   ]
  },
  {
   "cell_type": "code",
   "execution_count": null,
   "metadata": {},
   "outputs": [],
   "source": [
    "using JuMP"
   ]
  },
  {
   "cell_type": "code",
   "execution_count": null,
   "metadata": {},
   "outputs": [],
   "source": [
    "N = 9\n",
    "m = Model()"
   ]
  },
  {
   "cell_type": "code",
   "execution_count": null,
   "metadata": {},
   "outputs": [],
   "source": [
    "@variable(m, x[1:N,1:N], Bin)"
   ]
  },
  {
   "cell_type": "code",
   "execution_count": null,
   "metadata": {},
   "outputs": [],
   "source": [
    "for k=1:N\n",
    "    @constraint(m,x[k,k] == 0)\n",
    "end"
   ]
  },
  {
   "cell_type": "code",
   "execution_count": null,
   "metadata": {},
   "outputs": [],
   "source": [
    "for i = 1:N\n",
    "    for j = 1:N\n",
    "        @constraint(m, sum(x[i,j] for i = 1:N) == 1)\n",
    "        @constraint(m, sum(x[i,j] for j = 1:N) == 1)\n",
    "    end\n",
    "end"
   ]
  },
  {
   "cell_type": "code",
   "execution_count": null,
   "metadata": {},
   "outputs": [],
   "source": [
    "function subsets(x::Vector{T}) where T\n",
    "    res = Vector{T}[[]]\n",
    "    for elem in x, j in eachindex(res)\n",
    "        push!(res, [res[j] ; elem])\n",
    "    end\n",
    "    return res\n",
    "end"
   ]
  },
  {
   "cell_type": "code",
   "execution_count": null,
   "metadata": {},
   "outputs": [],
   "source": [
    "soustour = subsets([1:N;])"
   ]
  },
  {
   "cell_type": "code",
   "execution_count": null,
   "metadata": {},
   "outputs": [],
   "source": [
    "nb_tour = 0\n",
    "for t in soustour\n",
    "    T = length(t)\n",
    "    if 2 ≤ T ≤ N-1\n",
    "        nb_tour += 2\n",
    "        @constraint(m, sum(x[t[k],t[k+1]] for k=1:T-1) + x[t[T],t[1]] ≤ T-1)\n",
    "        @constraint(m, sum(x[t[k+1],t[k]] for k=1:T-1) + x[t[1],t[T]] ≤ T-1)\n",
    "    end\n",
    "end\n",
    "nb_tour"
   ]
  },
  {
   "cell_type": "code",
   "execution_count": null,
   "metadata": {},
   "outputs": [],
   "source": [
    "sum(2^i for i = 2:8)"
   ]
  },
  {
   "cell_type": "code",
   "execution_count": null,
   "metadata": {},
   "outputs": [],
   "source": [
    "@objective(m, Min, sum(d[i,j] * x[i,j] for i=1:N, j=1:N))"
   ]
  },
  {
   "cell_type": "code",
   "execution_count": null,
   "metadata": {},
   "outputs": [],
   "source": [
    "m"
   ]
  },
  {
   "cell_type": "code",
   "execution_count": null,
   "metadata": {},
   "outputs": [],
   "source": [
    "using Cbc"
   ]
  },
  {
   "cell_type": "code",
   "execution_count": null,
   "metadata": {},
   "outputs": [],
   "source": [
    "setsolver(m, CbcSolver())"
   ]
  },
  {
   "cell_type": "code",
   "execution_count": null,
   "metadata": {},
   "outputs": [],
   "source": [
    "status = solve(m)"
   ]
  },
  {
   "cell_type": "code",
   "execution_count": null,
   "metadata": {},
   "outputs": [],
   "source": [
    "sol = getvalue(x)"
   ]
  },
  {
   "cell_type": "code",
   "execution_count": null,
   "metadata": {},
   "outputs": [],
   "source": [
    "cities_visited = 1\n",
    "city = 1\n",
    "println(c[city])\n",
    "while cities_visited ≠ N\n",
    "    city = findfirst(sol[city,:] .== 1.0) \n",
    "    cities_visited += 1\n",
    "    println(c[city])\n",
    "end"
   ]
  }
 ],
 "metadata": {
  "celltoolbar": "Aucun(e)",
  "kernelspec": {
   "display_name": "Julia 1.1.0",
   "language": "julia",
   "name": "julia-1.1"
  },
  "language_info": {
   "file_extension": ".jl",
   "mimetype": "application/julia",
   "name": "julia",
   "version": "1.1.0"
  }
 },
 "nbformat": 4,
 "nbformat_minor": 2
}
