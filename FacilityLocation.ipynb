{
 "cells": [
  {
   "cell_type": "code",
   "execution_count": null,
   "metadata": {
    "collapsed": true
   },
   "outputs": [],
   "source": [
    "include(\"setup.jl\")"
   ]
  },
  {
   "cell_type": "markdown",
   "metadata": {},
   "source": [
    "# Facility location problem\n",
    "\n",
    "Benchmark instances: http://resources.mpi-inf.mpg.de/departments/d1/projects/benchmarks/UflLib/\n",
    "\n",
    "## Uncapacitated facility location\n",
    "\n",
    "### Problem description\n",
    "\n",
    "* $M=\\{1, \\dots, m\\}$ clients, $N=\\{ 1, \\dots, n\\}$ sites where a facility can be built."
   ]
  },
  {
   "cell_type": "code",
   "execution_count": null,
   "metadata": {
    "collapsed": true
   },
   "outputs": [],
   "source": [
    "n = 2  # number of facility locations\n",
    "m = 5  # number of clients"
   ]
  },
  {
   "cell_type": "markdown",
   "metadata": {},
   "source": [
    "* $f_j$: fixed cost of building a facility at site $j$\n",
    "* $c_{i, j}$: cost for serving customer $i$ from facility $j$"
   ]
  },
  {
   "cell_type": "code",
   "execution_count": null,
   "metadata": {
    "collapsed": true
   },
   "outputs": [],
   "source": [
    "# Draw costs\n",
    "Random.seed!(0)\n",
    "f = rand(1000:10000, n);\n",
    "c = rand(0:1000, m, n);"
   ]
  },
  {
   "cell_type": "markdown",
   "metadata": {},
   "source": [
    "### Compact MILP formulation\n",
    "\n",
    "$$\n",
    "    \\begin{array}{cl}\n",
    "        \\min_{x, y} \\ \\ \\ &\n",
    "            \\sum_{i, j} c_{i, j} x_{i, j} + \n",
    "            \\sum_{j} f_{j} y_{j}\\\\\n",
    "        s.t. &\n",
    "            \\sum_{j} x_{i, j} = 1, \\ \\ \\ \\forall i \\in M\\\\\n",
    "        &   \\sum_{i} x_{i, j} \\leq m y_{j}, \\ \\ \\ \\forall j \\in N\\\\\n",
    "        &   x_{i, j}, y_{j} \\in \\{0, 1\\}, \\ \\ \\ \\forall i \\in M, j \\in N\n",
    "    \\end{array}\n",
    "$$"
   ]
  },
  {
   "cell_type": "markdown",
   "metadata": {},
   "source": [
    "### Simple formulation using JuMP"
   ]
  },
  {
   "cell_type": "code",
   "execution_count": null,
   "metadata": {
    "collapsed": true
   },
   "outputs": [],
   "source": [
    "# Instantiate an empty model\n",
    "model = Model()"
   ]
  },
  {
   "cell_type": "code",
   "execution_count": null,
   "metadata": {
    "collapsed": true
   },
   "outputs": [],
   "source": [
    "# Create variables\n",
    "x = \n",
    "y = "
   ]
  },
  {
   "cell_type": "code",
   "execution_count": null,
   "metadata": {
    "collapsed": true
   },
   "outputs": [],
   "source": [
    "# set objective\n",
    "C =   # demand serving cost\n",
    "F =   # fixed cost\n",
    "\n",
    "# TODO"
   ]
  },
  {
   "cell_type": "code",
   "execution_count": null,
   "metadata": {
    "collapsed": true
   },
   "outputs": [],
   "source": [
    "# Add constraints\n",
    "\n",
    "# Each client is serve exactly once\n",
    "# TODO\n",
    "\n",
    "# Facility must be open to serve a client\n",
    "# TODO"
   ]
  },
  {
   "cell_type": "code",
   "execution_count": null,
   "metadata": {
    "collapsed": true
   },
   "outputs": [],
   "source": [
    "# Set optimizer\n",
    "# TODO"
   ]
  },
  {
   "cell_type": "code",
   "execution_count": null,
   "metadata": {
    "collapsed": true
   },
   "outputs": [],
   "source": [
    "optimize!(model)\n",
    "println(\"Optimal value: \", objective_value(model))"
   ]
  },
  {
   "cell_type": "code",
   "execution_count": null,
   "metadata": {
    "collapsed": true
   },
   "outputs": [],
   "source": [
    "# relax all binary variables\n",
    "# TODO\n",
    "\n",
    "# Solve the LP relaxation\n",
    "optimize!(model)\n",
    "lp_val = objective_value(model)\n",
    "println(\"Optimal value of relaxed model: \", lp_val)"
   ]
  },
  {
   "cell_type": "code",
   "execution_count": null,
   "metadata": {
    "collapsed": true
   },
   "outputs": [],
   "source": [
    "# set all variables to be binary\n",
    "# TODO\n",
    "\n",
    "optimize!(model)\n",
    "mip_val = objective_value(model)\n",
    "println(\"Optimal value of integer model: \", mip_val)"
   ]
  },
  {
   "cell_type": "code",
   "execution_count": null,
   "metadata": {
    "collapsed": true
   },
   "outputs": [],
   "source": [
    "(mip_val - lp_val) / mip_val  # integrality gap"
   ]
  },
  {
   "cell_type": "markdown",
   "metadata": {},
   "source": [
    "### Extended MILP formulation\n",
    "\n",
    "$$\n",
    "    \\begin{array}{cl}\n",
    "        \\min_{x, y} \\ \\ \\ &\n",
    "            \\sum_{i, j} c_{i, j} x_{i, j} + \n",
    "            \\sum_{j} f_{j} y_{j}\\\\\n",
    "        s.t. &\n",
    "            \\sum_{j} x_{i, j} = 1, \\ \\ \\ \\forall i \\in M\\\\\n",
    "        &   x_{i, j} \\leq y_{j}, \\ \\ \\ \\forall i \\in M, j \\in N\\\\\n",
    "        &   x_{i, j}, y_{j} \\in \\{0, 1\\}, \\ \\ \\ \\forall i \\in M, j \\in N\n",
    "    \\end{array}\n",
    "$$"
   ]
  },
  {
   "cell_type": "code",
   "execution_count": null,
   "metadata": {
    "collapsed": true
   },
   "outputs": [],
   "source": [
    "model_ext = Model()"
   ]
  },
  {
   "cell_type": "code",
   "execution_count": null,
   "metadata": {
    "collapsed": true
   },
   "outputs": [],
   "source": [
    "# Create variables\n",
    "# TODO"
   ]
  },
  {
   "cell_type": "code",
   "execution_count": null,
   "metadata": {
    "collapsed": true
   },
   "outputs": [],
   "source": [
    "# Set objective\n",
    "# TODO"
   ]
  },
  {
   "cell_type": "code",
   "execution_count": null,
   "metadata": {
    "collapsed": true
   },
   "outputs": [],
   "source": [
    "# Add constraints\n",
    "\n",
    "# Each client is serve exactly once\n",
    "# TODO\n",
    "\n",
    "# Facility must be open to serve a client\n",
    "# TODO"
   ]
  },
  {
   "cell_type": "code",
   "execution_count": null,
   "metadata": {
    "collapsed": true
   },
   "outputs": [],
   "source": [
    "# Set optimizer\n",
    "# TODO"
   ]
  },
  {
   "cell_type": "code",
   "execution_count": null,
   "metadata": {
    "collapsed": true
   },
   "outputs": [],
   "source": [
    "optimize!(model_ext)\n",
    "println(\"Optimal value: \", objective_value(model_ext))"
   ]
  },
  {
   "cell_type": "code",
   "execution_count": null,
   "metadata": {
    "collapsed": true
   },
   "outputs": [],
   "source": [
    "# relax all binary variables\n",
    "# TODO\n",
    "\n",
    "# Solve the LP relaxation\n",
    "optimize!(model_ext)\n",
    "lp_val = objective_value(model_ext)\n",
    "println(\"Optimal value of relaxed model: \", lp_val)"
   ]
  },
  {
   "cell_type": "code",
   "execution_count": null,
   "metadata": {
    "collapsed": true
   },
   "outputs": [],
   "source": [
    "# set all variables to be binary\n",
    "# TODO\n",
    "\n",
    "optimize!(model_ext)\n",
    "mip_val = objective_value(model_ext)\n",
    "println(\"Optimal value of integer model: \", mip_val)"
   ]
  },
  {
   "cell_type": "code",
   "execution_count": null,
   "metadata": {
    "collapsed": true
   },
   "outputs": [],
   "source": [
    "(mip_val - lp_val) / mip_val  # integrality gap"
   ]
  },
  {
   "cell_type": "markdown",
   "metadata": {},
   "source": [
    "## Capacitated Facility location\n",
    "\n",
    "* Each client $i$ has a demand $a_{i}$, and each facility has a capacity $q_{j}$"
   ]
  },
  {
   "cell_type": "markdown",
   "metadata": {},
   "source": [
    "$$\n",
    "    \\begin{array}{cl}\n",
    "        \\min_{x, y} \\ \\ \\ &\n",
    "            \\sum_{i, j} c_{i, j} x_{i, j} + \n",
    "            \\sum_{j} f_{j} y_{j}\\\\\n",
    "        s.t. &\n",
    "            \\sum_{j} x_{i, j} = 1, \\ \\ \\ \\forall i \\in M\\\\\n",
    "        &   \\sum_{i} a_{i} x_{i, j} \\leq q_{j} y_{j}, \\ \\ \\ \\forall j \\in N\\\\\n",
    "        &   x_{i, j}, y_{j} \\in \\{0, 1\\}, \\ \\ \\ \\forall i \\in M, j \\in N\n",
    "    \\end{array}\n",
    "$$"
   ]
  },
  {
   "cell_type": "code",
   "execution_count": null,
   "metadata": {
    "collapsed": true
   },
   "outputs": [],
   "source": [
    "n = 10  # number of facility locations\n",
    "m = 30  # number of clients\n",
    "\n",
    "# Draw costs\n",
    "Random.seed!(0)\n",
    "f = rand(1000:10000, n);\n",
    "c = rand(0:1000, m, n);\n",
    "\n",
    "# Clients' demands\n",
    "a = rand(1:10, m);\n",
    "\n",
    "# Capacities\n",
    "q = rand(30:40, n);"
   ]
  },
  {
   "cell_type": "code",
   "execution_count": null,
   "metadata": {
    "collapsed": true
   },
   "outputs": [],
   "source": [
    "# Instantiate an empty model\n",
    "model_cap = Model()"
   ]
  },
  {
   "cell_type": "code",
   "execution_count": null,
   "metadata": {
    "collapsed": true
   },
   "outputs": [],
   "source": [
    "# Create variables\n",
    "# TODO"
   ]
  },
  {
   "cell_type": "code",
   "execution_count": null,
   "metadata": {
    "collapsed": true
   },
   "outputs": [],
   "source": [
    "# set objective\n",
    "# TODO"
   ]
  },
  {
   "cell_type": "code",
   "execution_count": null,
   "metadata": {
    "collapsed": true
   },
   "outputs": [],
   "source": [
    "# Add constraints\n",
    "\n",
    "# Each client is serve exactly once\n",
    "# TODO\n",
    "\n",
    "# Capacity constraints\n",
    "# TODO\n",
    "\n",
    "# Tighten LP relaxation\n",
    "# TODO"
   ]
  },
  {
   "cell_type": "code",
   "execution_count": null,
   "metadata": {
    "collapsed": true
   },
   "outputs": [],
   "source": [
    "# Set optimizer\n",
    "set_optimizer(\n",
    "    model_cap,\n",
    "    with_optimizer(\n",
    "        GLPK.Optimizer,\n",
    "        msg_lev=3,    # verbosity level\n",
    "        tm_lim=10000  # time limit, in ms\n",
    "    )\n",
    ")"
   ]
  },
  {
   "cell_type": "code",
   "execution_count": null,
   "metadata": {
    "collapsed": true
   },
   "outputs": [],
   "source": [
    "@time optimize!(model_cap)\n",
    "println(\"Optimal value: \", objective_value(model_cap))"
   ]
  },
  {
   "cell_type": "code",
   "execution_count": null,
   "metadata": {
    "collapsed": true
   },
   "outputs": [],
   "source": [
    "# Best solution found so far\n",
    "objective_value(model_cap)"
   ]
  },
  {
   "cell_type": "code",
   "execution_count": null,
   "metadata": {
    "collapsed": true
   },
   "outputs": [],
   "source": [
    "# try with Cbc\n",
    "set_optimizer(model_cap, with_optimizer(Cbc.Optimizer))\n",
    "optimize!(model_cap)"
   ]
  }
 ],
 "metadata": {
  "kernelspec": {
   "display_name": "Julia 1.0.1",
   "language": "julia",
   "name": "julia-1.0"
  },
  "language_info": {
   "file_extension": ".jl",
   "mimetype": "application/julia",
   "name": "julia",
   "version": "1.0.1"
  }
 },
 "nbformat": 4,
 "nbformat_minor": 2
}
