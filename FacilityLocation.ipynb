{
 "cells": [
  {
   "cell_type": "code",
   "execution_count": 1,
   "metadata": {},
   "outputs": [],
   "source": [
    "using Pkg"
   ]
  },
  {
   "cell_type": "code",
   "execution_count": 2,
   "metadata": {},
   "outputs": [
    {
     "name": "stdout",
     "output_type": "stream",
     "text": [
      "\u001b[32m\u001b[1m    Status\u001b[22m\u001b[39m `~/.julia/environments/v1.0/Project.toml`\n",
      " \u001b[90m [8f4d0f93]\u001b[39m\u001b[37m Conda v1.1.1\u001b[39m\n",
      " \u001b[90m [7073ff75]\u001b[39m\u001b[37m IJulia v1.14.1\u001b[39m\n",
      " \u001b[90m [4076af6c]\u001b[39m\u001b[37m JuMP v0.18.5+ #master (https://github.com/JuliaOpt/JuMP.jl.git)\u001b[39m\n",
      " \u001b[90m [4f5ebc0c]\u001b[39m\u001b[37m Linda v0.0.0 [`../../../../../mnt/c/Users/mathi/GitHub/Linda.jl`]\u001b[39m\n",
      " \u001b[90m [fdba3010]\u001b[39m\u001b[37m MathProgBase v0.7.7\u001b[39m\n",
      " \u001b[90m [6405355b]\u001b[39m\u001b[37m Mosek v0.9.6\u001b[39m\n",
      " \u001b[90m [438e738f]\u001b[39m\u001b[37m PyCall v1.18.5\u001b[39m\n",
      " \u001b[90m [293ab2c4]\u001b[39m\u001b[37m SDP v0.1.0 [`../../../../../mnt/c/Users/mathi/GitHub/SDP.jl`]\u001b[39m\n",
      " \u001b[90m [73c0e4d2]\u001b[39m\u001b[37m Tulip v0.0.0 [`../../../../../mnt/c/Users/mathi/GitHub/Tulip.jl`]\u001b[39m\n"
     ]
    }
   ],
   "source": [
    "Pkg.status()"
   ]
  },
  {
   "cell_type": "code",
   "execution_count": 3,
   "metadata": {},
   "outputs": [
    {
     "name": "stdout",
     "output_type": "stream",
     "text": [
      "\u001b[32m\u001b[1m  Updating\u001b[22m\u001b[39m registry at `~/.julia/registries/General`\n",
      "\u001b[32m\u001b[1m  Updating\u001b[22m\u001b[39m git-repo `https://github.com/JuliaRegistries/General.git`\n",
      "\u001b[2K\u001b[?25h[1mFetching:\u001b[22m\u001b[39m [========================================>]  100.0 %.0 %"
     ]
    }
   ],
   "source": [
    "Pkg.activate(\".\")\n",
    "Pkg.instantiate()"
   ]
  },
  {
   "cell_type": "code",
   "execution_count": 4,
   "metadata": {},
   "outputs": [
    {
     "name": "stdout",
     "output_type": "stream",
     "text": [
      "\u001b[36m\u001b[1mProject \u001b[22m\u001b[39mJuMP-tuto v0.0.0\n",
      "\u001b[32m\u001b[1m    Status\u001b[22m\u001b[39m `/mnt/c/Users/mathi/GitHub/tutorial_jump/Project.toml`\n",
      " \u001b[90m [9961bab8]\u001b[39m\u001b[92m + Cbc v0.5.2\u001b[39m\n",
      " \u001b[90m [60bf3e95]\u001b[39m\u001b[37m   GLPK v0.9.1\u001b[39m\n",
      " \u001b[90m [7073ff75]\u001b[39m\u001b[92m + IJulia v1.16.0\u001b[39m\n",
      " \u001b[90m [4076af6c]\u001b[39m\u001b[93m ↑ JuMP v0.18.5 ⇒ v0.18.5+ #master (https://github.com/JuliaOpt/JuMP.jl.git)\u001b[39m\n",
      " \u001b[90m [91a5bcdd]\u001b[39m\u001b[37m   Plots v0.23.0\u001b[39m\n",
      " \u001b[90m [de0858da]\u001b[39m\u001b[37m   Printf \u001b[39m\n",
      " \u001b[90m [9a3f8284]\u001b[39m\u001b[92m + Random \u001b[39m\n",
      " \u001b[90m [8dfed614]\u001b[39m\u001b[37m   Test \u001b[39m\n"
     ]
    }
   ],
   "source": [
    "Pkg.status()"
   ]
  },
  {
   "cell_type": "code",
   "execution_count": 5,
   "metadata": {},
   "outputs": [
    {
     "data": {
      "text/plain": [
       "MathOptInterface"
      ]
     },
     "execution_count": 5,
     "metadata": {},
     "output_type": "execute_result"
    }
   ],
   "source": [
    "using JuMP\n",
    "const MOI = JuMP.MathOptInterface"
   ]
  },
  {
   "cell_type": "code",
   "execution_count": 6,
   "metadata": {},
   "outputs": [],
   "source": [
    "using GLPK\n",
    "using Cbc"
   ]
  },
  {
   "cell_type": "markdown",
   "metadata": {},
   "source": [
    "# Facility location problem\n",
    "\n",
    "Benchmark instances: http://resources.mpi-inf.mpg.de/departments/d1/projects/benchmarks/UflLib/\n",
    "\n",
    "## Uncapacitated facility location\n",
    "\n",
    "### Problem description\n",
    "\n",
    "* $M=\\{1, \\dots, m\\}$ clients, $N=\\{ 1, \\dots, n\\}$ sites where a facility can be built.\n",
    "* $f_j$: fixed cost of building a facility at site $j$\n",
    "* $c_{i, j}$: cost for serving customer $i$ from facility $j$"
   ]
  },
  {
   "cell_type": "markdown",
   "metadata": {},
   "source": [
    "### Compact MILP formulation\n",
    "\n",
    "$$\n",
    "    \\begin{array}{cl}\n",
    "        \\min_{x, y} \\ \\ \\ &\n",
    "            \\sum_{i, j} c_{i, j} x_{i, j} + \n",
    "            \\sum_{j} f_{j} y_{j}\\\\\n",
    "        s.t. &\n",
    "            \\sum_{j} x_{i, j} = 1, \\ \\ \\ \\forall i \\in M\\\\\n",
    "        &   \\sum_{i} x_{i, j} \\leq m y_{j}, \\ \\ \\ \\forall j \\in N\\\\\n",
    "        &   x_{i, j}, y_{j} \\in \\{0, 1\\}, \\ \\ \\ \\forall i \\in M, j \\in N\n",
    "    \\end{array}\n",
    "$$"
   ]
  },
  {
   "cell_type": "code",
   "execution_count": 7,
   "metadata": {},
   "outputs": [],
   "source": [
    "using Random"
   ]
  },
  {
   "cell_type": "code",
   "execution_count": 8,
   "metadata": {},
   "outputs": [
    {
     "data": {
      "text/plain": [
       "80"
      ]
     },
     "execution_count": 8,
     "metadata": {},
     "output_type": "execute_result"
    }
   ],
   "source": [
    "n = 30  # number of facility locations\n",
    "m = 80  # number of clients"
   ]
  },
  {
   "cell_type": "code",
   "execution_count": 9,
   "metadata": {},
   "outputs": [],
   "source": [
    "# Draw costs\n",
    "Random.seed!(0)\n",
    "f = rand(1000:10000, n);\n",
    "c = rand(0:1000, m, n);"
   ]
  },
  {
   "cell_type": "code",
   "execution_count": 40,
   "metadata": {},
   "outputs": [
    {
     "data": {
      "text/latex": [
       "$$ \\begin{alignat*}{1}\\text{feasibility}\\\\\n",
       "\\text{Subject to} \\quad\\end{alignat*}\n",
       " $$"
      ],
      "text/plain": [
       "A JuMP Model\n",
       "Feasibility problem with:\n",
       "Variables: 0\n",
       "Model mode: AUTOMATIC\n",
       "CachingOptimizer state: EMPTY_OPTIMIZER\n",
       "Solver name: GLPK"
      ]
     },
     "execution_count": 40,
     "metadata": {},
     "output_type": "execute_result"
    }
   ],
   "source": [
    "model = Model(with_optimizer(GLPK.Optimizer, msg_lev=3))"
   ]
  },
  {
   "cell_type": "code",
   "execution_count": 41,
   "metadata": {},
   "outputs": [
    {
     "data": {
      "text/latex": [
       "$$ \\begin{alignat*}{1}\\text{feasibility}\\\\\n",
       "\\text{Subject to} \\quad\\end{alignat*}\n",
       " $$"
      ],
      "text/plain": [
       "A JuMP Model\n",
       "Feasibility problem with:\n",
       "Variables: 0\n",
       "Model mode: AUTOMATIC\n",
       "CachingOptimizer state: EMPTY_OPTIMIZER\n",
       "Solver name: GLPK"
      ]
     },
     "execution_count": 41,
     "metadata": {},
     "output_type": "execute_result"
    }
   ],
   "source": [
    "model_ = direct_model(model.moi_backend)\n",
    "model = model_"
   ]
  },
  {
   "cell_type": "code",
   "execution_count": 42,
   "metadata": {},
   "outputs": [
    {
     "data": {
      "text/plain": [
       "MathOptInterface.Utilities.CachingOptimizer{MathOptInterface.AbstractOptimizer,MathOptInterface.Utilities.UniversalFallback{JuMPMOIModel{Float64}}}(MathOptInterface.Bridges.LazyBridgeOptimizer{GLPK.Optimizer,MathOptInterface.Utilities.UniversalFallback{MathOptInterface.Bridges.AllBridgedConstraints{Float64}}}(A LinQuadOptInterface model with backend:\n",
       "Prob(Ptr{Nothing} @0x0000000006b18c40), MathOptInterface.Utilities.UniversalFallback{MathOptInterface.Bridges.AllBridgedConstraints{Float64}}(MathOptInterface.Bridges.AllBridgedConstraints{Float64}(\"\", false, FEASIBILITY_SENSE::OptimizationSense = 2, false, MathOptInterface.ScalarAffineFunction{Float64}(MathOptInterface.ScalarAffineTerm{Float64}[], 0.0), 0, nothing, Dict{MathOptInterface.VariableIndex,String}(), nothing, 0, Dict{MathOptInterface.ConstraintIndex,String}(), nothing, Int64[], MathOptInterface.Bridges.AllBridgedConstraintsScalarConstraints{Float64,MathOptInterface.SingleVariable}(Tuple{MathOptInterface.ConstraintIndex{MathOptInterface.SingleVariable,MathOptInterface.EqualTo{Float64}},MathOptInterface.SingleVariable,MathOptInterface.EqualTo{Float64}}[], Tuple{MathOptInterface.ConstraintIndex{MathOptInterface.SingleVariable,MathOptInterface.LessThan{Float64}},MathOptInterface.SingleVariable,MathOptInterface.LessThan{Float64}}[], Tuple{MathOptInterface.ConstraintIndex{MathOptInterface.SingleVariable,MathOptInterface.GreaterThan{Float64}},MathOptInterface.SingleVariable,MathOptInterface.GreaterThan{Float64}}[], Tuple{MathOptInterface.ConstraintIndex{MathOptInterface.SingleVariable,MathOptInterface.Interval{Float64}},MathOptInterface.SingleVariable,MathOptInterface.Interval{Float64}}[]), MathOptInterface.Bridges.AllBridgedConstraintsScalarConstraints{Float64,MathOptInterface.ScalarAffineFunction{Float64}}(Tuple{MathOptInterface.ConstraintIndex{MathOptInterface.ScalarAffineFunction{Float64},MathOptInterface.EqualTo{Float64}},MathOptInterface.ScalarAffineFunction{Float64},MathOptInterface.EqualTo{Float64}}[], Tuple{MathOptInterface.ConstraintIndex{MathOptInterface.ScalarAffineFunction{Float64},MathOptInterface.LessThan{Float64}},MathOptInterface.ScalarAffineFunction{Float64},MathOptInterface.LessThan{Float64}}[], Tuple{MathOptInterface.ConstraintIndex{MathOptInterface.ScalarAffineFunction{Float64},MathOptInterface.GreaterThan{Float64}},MathOptInterface.ScalarAffineFunction{Float64},MathOptInterface.GreaterThan{Float64}}[], Tuple{MathOptInterface.ConstraintIndex{MathOptInterface.ScalarAffineFunction{Float64},MathOptInterface.Interval{Float64}},MathOptInterface.ScalarAffineFunction{Float64},MathOptInterface.Interval{Float64}}[]), MathOptInterface.Bridges.AllBridgedConstraintsScalarConstraints{Float64,MathOptInterface.ScalarQuadraticFunction{Float64}}(Tuple{MathOptInterface.ConstraintIndex{MathOptInterface.ScalarQuadraticFunction{Float64},MathOptInterface.EqualTo{Float64}},MathOptInterface.ScalarQuadraticFunction{Float64},MathOptInterface.EqualTo{Float64}}[], Tuple{MathOptInterface.ConstraintIndex{MathOptInterface.ScalarQuadraticFunction{Float64},MathOptInterface.LessThan{Float64}},MathOptInterface.ScalarQuadraticFunction{Float64},MathOptInterface.LessThan{Float64}}[], Tuple{MathOptInterface.ConstraintIndex{MathOptInterface.ScalarQuadraticFunction{Float64},MathOptInterface.GreaterThan{Float64}},MathOptInterface.ScalarQuadraticFunction{Float64},MathOptInterface.GreaterThan{Float64}}[], Tuple{MathOptInterface.ConstraintIndex{MathOptInterface.ScalarQuadraticFunction{Float64},MathOptInterface.Interval{Float64}},MathOptInterface.ScalarQuadraticFunction{Float64},MathOptInterface.Interval{Float64}}[]), MathOptInterface.Bridges.AllBridgedConstraintsVectorConstraints{Float64,MathOptInterface.VectorOfVariables}(Tuple{MathOptInterface.ConstraintIndex{MathOptInterface.VectorOfVariables,MathOptInterface.SecondOrderCone},MathOptInterface.VectorOfVariables,MathOptInterface.SecondOrderCone}[], Tuple{MathOptInterface.ConstraintIndex{MathOptInterface.VectorOfVariables,MathOptInterface.RotatedSecondOrderCone},MathOptInterface.VectorOfVariables,MathOptInterface.RotatedSecondOrderCone}[], Tuple{MathOptInterface.ConstraintIndex{MathOptInterface.VectorOfVariables,MathOptInterface.GeometricMeanCone},MathOptInterface.VectorOfVariables,MathOptInterface.GeometricMeanCone}[], Tuple{MathOptInterface.ConstraintIndex{MathOptInterface.VectorOfVariables,MathOptInterface.PositiveSemidefiniteConeSquare},MathOptInterface.VectorOfVariables,MathOptInterface.PositiveSemidefiniteConeSquare}[], Tuple{MathOptInterface.ConstraintIndex{MathOptInterface.VectorOfVariables,MathOptInterface.LogDetConeTriangle},MathOptInterface.VectorOfVariables,MathOptInterface.LogDetConeTriangle}[], Tuple{MathOptInterface.ConstraintIndex{MathOptInterface.VectorOfVariables,MathOptInterface.RootDetConeTriangle},MathOptInterface.VectorOfVariables,MathOptInterface.RootDetConeTriangle}[]), MathOptInterface.Bridges.AllBridgedConstraintsVectorConstraints{Float64,MathOptInterface.VectorAffineFunction{Float64}}(Tuple{MathOptInterface.ConstraintIndex{MathOptInterface.VectorAffineFunction{Float64},MathOptInterface.SecondOrderCone},MathOptInterface.VectorAffineFunction{Float64},MathOptInterface.SecondOrderCone}[], Tuple{MathOptInterface.ConstraintIndex{MathOptInterface.VectorAffineFunction{Float64},MathOptInterface.RotatedSecondOrderCone},MathOptInterface.VectorAffineFunction{Float64},MathOptInterface.RotatedSecondOrderCone}[], Tuple{MathOptInterface.ConstraintIndex{MathOptInterface.VectorAffineFunction{Float64},MathOptInterface.GeometricMeanCone},MathOptInterface.VectorAffineFunction{Float64},MathOptInterface.GeometricMeanCone}[], Tuple{MathOptInterface.ConstraintIndex{MathOptInterface.VectorAffineFunction{Float64},MathOptInterface.PositiveSemidefiniteConeSquare},MathOptInterface.VectorAffineFunction{Float64},MathOptInterface.PositiveSemidefiniteConeSquare}[], Tuple{MathOptInterface.ConstraintIndex{MathOptInterface.VectorAffineFunction{Float64},MathOptInterface.LogDetConeTriangle},MathOptInterface.VectorAffineFunction{Float64},MathOptInterface.LogDetConeTriangle}[], Tuple{MathOptInterface.ConstraintIndex{MathOptInterface.VectorAffineFunction{Float64},MathOptInterface.RootDetConeTriangle},MathOptInterface.VectorAffineFunction{Float64},MathOptInterface.RootDetConeTriangle}[]), MathOptInterface.Bridges.AllBridgedConstraintsVectorConstraints{Float64,MathOptInterface.VectorQuadraticFunction{Float64}}(Tuple{MathOptInterface.ConstraintIndex{MathOptInterface.VectorQuadraticFunction{Float64},MathOptInterface.SecondOrderCone},MathOptInterface.VectorQuadraticFunction{Float64},MathOptInterface.SecondOrderCone}[], Tuple{MathOptInterface.ConstraintIndex{MathOptInterface.VectorQuadraticFunction{Float64},MathOptInterface.RotatedSecondOrderCone},MathOptInterface.VectorQuadraticFunction{Float64},MathOptInterface.RotatedSecondOrderCone}[], Tuple{MathOptInterface.ConstraintIndex{MathOptInterface.VectorQuadraticFunction{Float64},MathOptInterface.GeometricMeanCone},MathOptInterface.VectorQuadraticFunction{Float64},MathOptInterface.GeometricMeanCone}[], Tuple{MathOptInterface.ConstraintIndex{MathOptInterface.VectorQuadraticFunction{Float64},MathOptInterface.PositiveSemidefiniteConeSquare},MathOptInterface.VectorQuadraticFunction{Float64},MathOptInterface.PositiveSemidefiniteConeSquare}[], Tuple{MathOptInterface.ConstraintIndex{MathOptInterface.VectorQuadraticFunction{Float64},MathOptInterface.LogDetConeTriangle},MathOptInterface.VectorQuadraticFunction{Float64},MathOptInterface.LogDetConeTriangle}[], Tuple{MathOptInterface.ConstraintIndex{MathOptInterface.VectorQuadraticFunction{Float64},MathOptInterface.RootDetConeTriangle},MathOptInterface.VectorQuadraticFunction{Float64},MathOptInterface.RootDetConeTriangle}[])), Dict{Tuple{DataType,DataType},Dict}(), 0, Dict{MathOptInterface.ConstraintIndex,String}(), nothing, Dict{MathOptInterface.AbstractOptimizerAttribute,Any}(), Dict{MathOptInterface.AbstractModelAttribute,Any}(), Dict{MathOptInterface.AbstractVariableAttribute,Dict{MathOptInterface.VariableIndex,Any}}(), Dict{MathOptInterface.AbstractConstraintAttribute,Dict{MathOptInterface.ConstraintIndex,Any}}()), Dict{MathOptInterface.ConstraintIndex,MathOptInterface.Bridges.AbstractBridge}(), Any[VectorizeBridge{Float64,F,S} where S where F, SplitIntervalBridge{Float64,F} where F<:AbstractScalarFunction, QuadtoSOCBridge{Float64}, GeoMeanBridge{Float64,F,G} where G where F, SquarePSDBridge{Float64,F,G} where G<:AbstractScalarFunction where F<:AbstractVectorFunction, LogDetBridge{Float64}, RootDetBridge{Float64}, RSOCBridge{Float64,F} where F, RSOCtoPSDBridge{Float64}, SOCtoPSDBridge{Float64}], Dict{Tuple{DataType,DataType},Int64}(), Dict{Tuple{DataType,DataType},DataType}()), MathOptInterface.Utilities.UniversalFallback{JuMPMOIModel{Float64}}(JuMPMOIModel{Float64}(\"\", false, FEASIBILITY_SENSE::OptimizationSense = 2, false, MathOptInterface.ScalarAffineFunction{Float64}(MathOptInterface.ScalarAffineTerm{Float64}[], 0.0), 0, nothing, Dict{MathOptInterface.VariableIndex,String}(), nothing, 0, Dict{MathOptInterface.ConstraintIndex,String}(), nothing, Int64[], JuMPMOIModelScalarConstraints{Float64,MathOptInterface.SingleVariable}(Tuple{MathOptInterface.ConstraintIndex{MathOptInterface.SingleVariable,MathOptInterface.ZeroOne},MathOptInterface.SingleVariable,MathOptInterface.ZeroOne}[], Tuple{MathOptInterface.ConstraintIndex{MathOptInterface.SingleVariable,MathOptInterface.Integer},MathOptInterface.SingleVariable,MathOptInterface.Integer}[], Tuple{MathOptInterface.ConstraintIndex{MathOptInterface.SingleVariable,MathOptInterface.EqualTo{Float64}},MathOptInterface.SingleVariable,MathOptInterface.EqualTo{Float64}}[], Tuple{MathOptInterface.ConstraintIndex{MathOptInterface.SingleVariable,MathOptInterface.GreaterThan{Float64}},MathOptInterface.SingleVariable,MathOptInterface.GreaterThan{Float64}}[], Tuple{MathOptInterface.ConstraintIndex{MathOptInterface.SingleVariable,MathOptInterface.LessThan{Float64}},MathOptInterface.SingleVariable,MathOptInterface.LessThan{Float64}}[], Tuple{MathOptInterface.ConstraintIndex{MathOptInterface.SingleVariable,MathOptInterface.Interval{Float64}},MathOptInterface.SingleVariable,MathOptInterface.Interval{Float64}}[]), JuMPMOIModelScalarConstraints{Float64,MathOptInterface.ScalarAffineFunction{Float64}}(Tuple{MathOptInterface.ConstraintIndex{MathOptInterface.ScalarAffineFunction{Float64},MathOptInterface.ZeroOne},MathOptInterface.ScalarAffineFunction{Float64},MathOptInterface.ZeroOne}[], Tuple{MathOptInterface.ConstraintIndex{MathOptInterface.ScalarAffineFunction{Float64},MathOptInterface.Integer},MathOptInterface.ScalarAffineFunction{Float64},MathOptInterface.Integer}[], Tuple{MathOptInterface.ConstraintIndex{MathOptInterface.ScalarAffineFunction{Float64},MathOptInterface.EqualTo{Float64}},MathOptInterface.ScalarAffineFunction{Float64},MathOptInterface.EqualTo{Float64}}[], Tuple{MathOptInterface.ConstraintIndex{MathOptInterface.ScalarAffineFunction{Float64},MathOptInterface.GreaterThan{Float64}},MathOptInterface.ScalarAffineFunction{Float64},MathOptInterface.GreaterThan{Float64}}[], Tuple{MathOptInterface.ConstraintIndex{MathOptInterface.ScalarAffineFunction{Float64},MathOptInterface.LessThan{Float64}},MathOptInterface.ScalarAffineFunction{Float64},MathOptInterface.LessThan{Float64}}[], Tuple{MathOptInterface.ConstraintIndex{MathOptInterface.ScalarAffineFunction{Float64},MathOptInterface.Interval{Float64}},MathOptInterface.ScalarAffineFunction{Float64},MathOptInterface.Interval{Float64}}[]), JuMPMOIModelScalarConstraints{Float64,MathOptInterface.ScalarQuadraticFunction{Float64}}(Tuple{MathOptInterface.ConstraintIndex{MathOptInterface.ScalarQuadraticFunction{Float64},MathOptInterface.ZeroOne},MathOptInterface.ScalarQuadraticFunction{Float64},MathOptInterface.ZeroOne}[], Tuple{MathOptInterface.ConstraintIndex{MathOptInterface.ScalarQuadraticFunction{Float64},MathOptInterface.Integer},MathOptInterface.ScalarQuadraticFunction{Float64},MathOptInterface.Integer}[], Tuple{MathOptInterface.ConstraintIndex{MathOptInterface.ScalarQuadraticFunction{Float64},MathOptInterface.EqualTo{Float64}},MathOptInterface.ScalarQuadraticFunction{Float64},MathOptInterface.EqualTo{Float64}}[], Tuple{MathOptInterface.ConstraintIndex{MathOptInterface.ScalarQuadraticFunction{Float64},MathOptInterface.GreaterThan{Float64}},MathOptInterface.ScalarQuadraticFunction{Float64},MathOptInterface.GreaterThan{Float64}}[], Tuple{MathOptInterface.ConstraintIndex{MathOptInterface.ScalarQuadraticFunction{Float64},MathOptInterface.LessThan{Float64}},MathOptInterface.ScalarQuadraticFunction{Float64},MathOptInterface.LessThan{Float64}}[], Tuple{MathOptInterface.ConstraintIndex{MathOptInterface.ScalarQuadraticFunction{Float64},MathOptInterface.Interval{Float64}},MathOptInterface.ScalarQuadraticFunction{Float64},MathOptInterface.Interval{Float64}}[]), JuMPMOIModelVectorConstraints{Float64,MathOptInterface.VectorOfVariables}(Tuple{MathOptInterface.ConstraintIndex{MathOptInterface.VectorOfVariables,MathOptInterface.Zeros},MathOptInterface.VectorOfVariables,MathOptInterface.Zeros}[], Tuple{MathOptInterface.ConstraintIndex{MathOptInterface.VectorOfVariables,MathOptInterface.Nonnegatives},MathOptInterface.VectorOfVariables,MathOptInterface.Nonnegatives}[], Tuple{MathOptInterface.ConstraintIndex{MathOptInterface.VectorOfVariables,MathOptInterface.Nonpositives},MathOptInterface.VectorOfVariables,MathOptInterface.Nonpositives}[], Tuple{MathOptInterface.ConstraintIndex{MathOptInterface.VectorOfVariables,MathOptInterface.SecondOrderCone},MathOptInterface.VectorOfVariables,MathOptInterface.SecondOrderCone}[], Tuple{MathOptInterface.ConstraintIndex{MathOptInterface.VectorOfVariables,MathOptInterface.RotatedSecondOrderCone},MathOptInterface.VectorOfVariables,MathOptInterface.RotatedSecondOrderCone}[], Tuple{MathOptInterface.ConstraintIndex{MathOptInterface.VectorOfVariables,MathOptInterface.GeometricMeanCone},MathOptInterface.VectorOfVariables,MathOptInterface.GeometricMeanCone}[], Tuple{MathOptInterface.ConstraintIndex{MathOptInterface.VectorOfVariables,MathOptInterface.PositiveSemidefiniteConeTriangle},MathOptInterface.VectorOfVariables,MathOptInterface.PositiveSemidefiniteConeTriangle}[], Tuple{MathOptInterface.ConstraintIndex{MathOptInterface.VectorOfVariables,MathOptInterface.PositiveSemidefiniteConeSquare},MathOptInterface.VectorOfVariables,MathOptInterface.PositiveSemidefiniteConeSquare}[], Tuple{MathOptInterface.ConstraintIndex{MathOptInterface.VectorOfVariables,MathOptInterface.RootDetConeTriangle},MathOptInterface.VectorOfVariables,MathOptInterface.RootDetConeTriangle}[], Tuple{MathOptInterface.ConstraintIndex{MathOptInterface.VectorOfVariables,MathOptInterface.RootDetConeSquare},MathOptInterface.VectorOfVariables,MathOptInterface.RootDetConeSquare}[], Tuple{MathOptInterface.ConstraintIndex{MathOptInterface.VectorOfVariables,MathOptInterface.LogDetConeTriangle},MathOptInterface.VectorOfVariables,MathOptInterface.LogDetConeTriangle}[], Tuple{MathOptInterface.ConstraintIndex{MathOptInterface.VectorOfVariables,MathOptInterface.LogDetConeSquare},MathOptInterface.VectorOfVariables,MathOptInterface.LogDetConeSquare}[]), JuMPMOIModelVectorConstraints{Float64,MathOptInterface.VectorAffineFunction{Float64}}(Tuple{MathOptInterface.ConstraintIndex{MathOptInterface.VectorAffineFunction{Float64},MathOptInterface.Zeros},MathOptInterface.VectorAffineFunction{Float64},MathOptInterface.Zeros}[], Tuple{MathOptInterface.ConstraintIndex{MathOptInterface.VectorAffineFunction{Float64},MathOptInterface.Nonnegatives},MathOptInterface.VectorAffineFunction{Float64},MathOptInterface.Nonnegatives}[], Tuple{MathOptInterface.ConstraintIndex{MathOptInterface.VectorAffineFunction{Float64},MathOptInterface.Nonpositives},MathOptInterface.VectorAffineFunction{Float64},MathOptInterface.Nonpositives}[], Tuple{MathOptInterface.ConstraintIndex{MathOptInterface.VectorAffineFunction{Float64},MathOptInterface.SecondOrderCone},MathOptInterface.VectorAffineFunction{Float64},MathOptInterface.SecondOrderCone}[], Tuple{MathOptInterface.ConstraintIndex{MathOptInterface.VectorAffineFunction{Float64},MathOptInterface.RotatedSecondOrderCone},MathOptInterface.VectorAffineFunction{Float64},MathOptInterface.RotatedSecondOrderCone}[], Tuple{MathOptInterface.ConstraintIndex{MathOptInterface.VectorAffineFunction{Float64},MathOptInterface.GeometricMeanCone},MathOptInterface.VectorAffineFunction{Float64},MathOptInterface.GeometricMeanCone}[], Tuple{MathOptInterface.ConstraintIndex{MathOptInterface.VectorAffineFunction{Float64},MathOptInterface.PositiveSemidefiniteConeTriangle},MathOptInterface.VectorAffineFunction{Float64},MathOptInterface.PositiveSemidefiniteConeTriangle}[], Tuple{MathOptInterface.ConstraintIndex{MathOptInterface.VectorAffineFunction{Float64},MathOptInterface.PositiveSemidefiniteConeSquare},MathOptInterface.VectorAffineFunction{Float64},MathOptInterface.PositiveSemidefiniteConeSquare}[], Tuple{MathOptInterface.ConstraintIndex{MathOptInterface.VectorAffineFunction{Float64},MathOptInterface.RootDetConeTriangle},MathOptInterface.VectorAffineFunction{Float64},MathOptInterface.RootDetConeTriangle}[], Tuple{MathOptInterface.ConstraintIndex{MathOptInterface.VectorAffineFunction{Float64},MathOptInterface.RootDetConeSquare},MathOptInterface.VectorAffineFunction{Float64},MathOptInterface.RootDetConeSquare}[], Tuple{MathOptInterface.ConstraintIndex{MathOptInterface.VectorAffineFunction{Float64},MathOptInterface.LogDetConeTriangle},MathOptInterface.VectorAffineFunction{Float64},MathOptInterface.LogDetConeTriangle}[], Tuple{MathOptInterface.ConstraintIndex{MathOptInterface.VectorAffineFunction{Float64},MathOptInterface.LogDetConeSquare},MathOptInterface.VectorAffineFunction{Float64},MathOptInterface.LogDetConeSquare}[])), Dict{Tuple{DataType,DataType},Dict}(), 0, Dict{MathOptInterface.ConstraintIndex,String}(), nothing, Dict{MathOptInterface.AbstractOptimizerAttribute,Any}(), Dict{MathOptInterface.AbstractModelAttribute,Any}(), Dict{MathOptInterface.AbstractVariableAttribute,Dict{MathOptInterface.VariableIndex,Any}}(), Dict{MathOptInterface.AbstractConstraintAttribute,Dict{MathOptInterface.ConstraintIndex,Any}}()), EMPTY_OPTIMIZER::CachingOptimizerState = 1, AUTOMATIC::CachingOptimizerMode = 1, MathOptInterface.Utilities.IndexMap(Dict{MathOptInterface.VariableIndex,MathOptInterface.VariableIndex}(), Dict{MathOptInterface.ConstraintIndex,MathOptInterface.ConstraintIndex}()), MathOptInterface.Utilities.IndexMap(Dict{MathOptInterface.VariableIndex,MathOptInterface.VariableIndex}(), Dict{MathOptInterface.ConstraintIndex,MathOptInterface.ConstraintIndex}()))"
      ]
     },
     "execution_count": 42,
     "metadata": {},
     "output_type": "execute_result"
    }
   ],
   "source": [
    "backend(model)"
   ]
  },
  {
   "cell_type": "code",
   "execution_count": 10,
   "metadata": {},
   "outputs": [
    {
     "data": {
      "text/latex": [
       "$$ \\begin{alignat*}{1}\\text{feasibility}\\\\\n",
       "\\text{Subject to} \\quad\\end{alignat*}\n",
       " $$"
      ],
      "text/plain": [
       "A JuMP Model\n",
       "Feasibility problem with:\n",
       "Variables: 0\n",
       "Model mode: AUTOMATIC\n",
       "CachingOptimizer state: EMPTY_OPTIMIZER\n",
       "Solver name: SolverName() attribute not implemented by the optimizer."
      ]
     },
     "execution_count": 10,
     "metadata": {},
     "output_type": "execute_result"
    }
   ],
   "source": [
    "model = Model(with_optimizer(Cbc.Optimizer))"
   ]
  },
  {
   "cell_type": "code",
   "execution_count": 43,
   "metadata": {},
   "outputs": [],
   "source": [
    "# Create y variables\n",
    "@variable(model, y[1:m], Bin);\n",
    "@variable(model, x[1:m, 1:n], Bin);"
   ]
  },
  {
   "cell_type": "code",
   "execution_count": 44,
   "metadata": {},
   "outputs": [],
   "source": [
    "# set objective\n",
    "fixed_cost = sum([f[j]*y[j] for j in 1:n])\n",
    "expr = sum([c[i, j]*x[i, j] for i in 1:m for j in 1:n])\n",
    "\n",
    "@objective(model, Min, fixed_cost + expr);"
   ]
  },
  {
   "cell_type": "code",
   "execution_count": 45,
   "metadata": {},
   "outputs": [],
   "source": [
    "# Add constraints\n",
    "\n",
    "# Each client is serve exactly once\n",
    "@constraint(model, [i in 1:m],\n",
    "    sum(x[i, j] for j in 1:n) == 1\n",
    ")\n",
    "\n",
    "# Fixed cost of opening facilities\n",
    "@constraint(model, [j in 1:n],\n",
    "    sum(x[i, j] for i in 1:m) <= m*y[j]\n",
    ");"
   ]
  },
  {
   "cell_type": "code",
   "execution_count": 46,
   "metadata": {},
   "outputs": [
    {
     "name": "stdout",
     "output_type": "stream",
     "text": [
      "GLPK Simplex Optimizer, v4.64\n",
      "110 rows, 2480 columns, 4830 non-zeros\n",
      "      0: obj =   0.000000000e+00 inf =   8.000e+01 (80)\n",
      "    110: obj =   4.418300000e+04 inf =   0.000e+00 (0)\n",
      "*   414: obj =   7.002150000e+03 inf =   0.000e+00 (0)\n",
      "OPTIMAL LP SOLUTION FOUND\n",
      "GLPK Integer Optimizer, v4.64\n",
      "110 rows, 2480 columns, 4830 non-zeros\n",
      "2480 integer variables, all of which are binary\n",
      "Integer optimization begins...\n",
      "+   414: mip =     not found yet >=              -inf        (1; 0)\n",
      "+   602: >>>>>   3.415900000e+04 >=   8.612000000e+03  74.8% (31; 0)\n",
      "+   768: >>>>>   3.230000000e+04 >=   8.656000000e+03  73.2% (52; 1)\n",
      "+  1556: >>>>>   3.068500000e+04 >=   8.837000000e+03  71.2% (167; 6)\n",
      "+  1978: >>>>>   2.815000000e+04 >=   9.656000000e+03  65.7% (228; 15)\n",
      "+  2214: >>>>>   2.606300000e+04 >=   9.858000000e+03  62.2% (260; 31)\n",
      "+  4619: >>>>>   2.509200000e+04 >=   1.103600000e+04  56.0% (574; 73)\n",
      "+  7947: >>>>>   2.495000000e+04 >=   1.291800000e+04  48.2% (987; 138)\n",
      "+  9969: >>>>>   2.451100000e+04 >=   1.348400000e+04  45.0% (1265; 172)\n",
      "+ 11812: >>>>>   2.354500000e+04 >=   1.395200000e+04  40.7% (1506; 242)\n",
      "+ 23855: >>>>>   2.299100000e+04 >=   1.607500000e+04  30.1% (2856; 690)\n",
      "+ 24431: >>>>>   2.260000000e+04 >=   1.615000000e+04  28.5% (2719; 1079)\n",
      "+ 40693: mip =   2.260000000e+04 >=   1.842400000e+04  18.5% (3514; 2091)\n",
      "+ 58585: mip =   2.260000000e+04 >=   1.999400000e+04  11.5% (3525; 3195)\n",
      "+ 74261: >>>>>   2.255900000e+04 >=   2.115300000e+04   6.2% (2635; 4777)\n",
      "+ 89574: mip =   2.255900000e+04 >=     tree is empty   0.0% (0; 13659)\n",
      "INTEGER OPTIMAL SOLUTION FOUND\n"
     ]
    }
   ],
   "source": [
    "optimize!(model)"
   ]
  },
  {
   "cell_type": "code",
   "execution_count": 48,
   "metadata": {},
   "outputs": [
    {
     "data": {
      "text/plain": [
       "AUTOMATIC::ModelMode = 0"
      ]
     },
     "execution_count": 48,
     "metadata": {},
     "output_type": "execute_result"
    }
   ],
   "source": [
    "mode(model)"
   ]
  },
  {
   "cell_type": "markdown",
   "metadata": {},
   "source": [
    "### Extended MILP formulation\n",
    "\n",
    "$$\n",
    "    \\begin{array}{cl}\n",
    "        \\min_{x, y} \\ \\ \\ &\n",
    "            \\sum_{i, j} c_{i, j} x_{i, j} + \n",
    "            \\sum_{j} f_{j} y_{j}\\\\\n",
    "        s.t. &\n",
    "            \\sum_{j} x_{i, j} = 1, \\ \\ \\ \\forall i \\in M\\\\\n",
    "        &   x_{i, j} \\leq y_{j}, \\ \\ \\ \\forall i \\in M, j \\in N\\\\\n",
    "        &   x_{i, j}, y_{j} \\in \\{0, 1\\}, \\ \\ \\ \\forall i \\in M, j \\in N\n",
    "    \\end{array}\n",
    "$$"
   ]
  },
  {
   "cell_type": "code",
   "execution_count": 40,
   "metadata": {},
   "outputs": [
    {
     "ename": "MethodError",
     "evalue": "MethodError: no method matching Cbc.Optimizer(; XX=0)\nClosest candidates are:\n  Cbc.Optimizer() at /home/mtanneau/.julia/packages/Cbc/Jx1MC/src/MOI_wrapper.jl:11 got unsupported keyword argument \"XX\"",
     "output_type": "error",
     "traceback": [
      "MethodError: no method matching Cbc.Optimizer(; XX=0)\nClosest candidates are:\n  Cbc.Optimizer() at /home/mtanneau/.julia/packages/Cbc/Jx1MC/src/MOI_wrapper.jl:11 got unsupported keyword argument \"XX\"",
      "",
      "Stacktrace:",
      " [1] (::OptimizerFactory)() at /home/mtanneau/.julia/packages/JuMP/5zuxr/src/JuMP.jl:116",
      " [2] #set_optimizer#78(::Bool, ::Function, ::Model, ::OptimizerFactory) at /home/mtanneau/.julia/packages/JuMP/5zuxr/src/optimizer_interface.jl:38",
      " [3] #Model#5 at ./none:0 [inlined]",
      " [4] Model(::OptimizerFactory) at /home/mtanneau/.julia/packages/JuMP/5zuxr/src/JuMP.jl:213",
      " [5] top-level scope at In[40]:1"
     ]
    }
   ],
   "source": [
    "model_ext = Model(with_optimizer(Cbc.Optimizer, XX=0))"
   ]
  },
  {
   "cell_type": "code",
   "execution_count": 34,
   "metadata": {},
   "outputs": [],
   "source": [
    "# Create y variables\n",
    "@variable(model_ext, y[1:m], Bin);\n",
    "@variable(model_ext, x[1:m, 1:n], Bin);"
   ]
  },
  {
   "cell_type": "code",
   "execution_count": 35,
   "metadata": {},
   "outputs": [],
   "source": [
    "# set objective\n",
    "fixed_cost = sum([f[j]*y[j] for j in 1:n])\n",
    "expr = sum([c[i, j]*x[i, j] for i in 1:m for j in 1:n])\n",
    "                \n",
    "@objective(model_ext, Min, fixed_cost + expr);"
   ]
  },
  {
   "cell_type": "code",
   "execution_count": 36,
   "metadata": {},
   "outputs": [],
   "source": [
    "# Add constraints\n",
    "\n",
    "# Each client is serve exactly once\n",
    "@constraint(model_ext, [i in 1:m],\n",
    "    sum(x[i, j] for j in 1:n) == 1\n",
    ")\n",
    "\n",
    "# Fixed cost of opening facilities\n",
    "@constraint(model_ext, [i in 1:m, j in 1:n],\n",
    "    x[i, j] <= y[j]\n",
    ");"
   ]
  },
  {
   "cell_type": "code",
   "execution_count": 37,
   "metadata": {},
   "outputs": [
    {
     "name": "stdout",
     "output_type": "stream",
     "text": [
      "Welcome to the CBC MILP Solver \n",
      "Version: 2.9.9 \n",
      "Build Date: Dec 31 2018 \n",
      "\n",
      "command line - Cbc_C_Interface -solve -quit (default strategy 1)\n",
      "Continuous objective value is 27109.5 - 0.80 seconds\n",
      "Cgl0004I processed model has 6120 rows, 6050 columns (6050 integer (6050 of which binary)) and 18000 elements\n",
      "Cutoff increment increased from 1e-05 to 0.9999\n",
      "Cbc0038I Initial state - 197 integers unsatisfied sum - 98.5\n",
      "Cbc0038I Pass   1: (1.42 seconds) suminf.    0.00000 (0) obj. 56153 iterations 2452\n",
      "Cbc0038I Solution found of 56153\n",
      "Cbc0038I Before mini branch and bound, 5769 integers at bound fixed and 0 continuous\n",
      "Cbc0038I Full problem 6120 rows 6050 columns, reduced to 235 rows 242 columns\n",
      "Cbc0038I Mini branch and bound improved solution from 56153 to 28673 (1.55 seconds)\n",
      "Cbc0038I Round again with cutoff of 28515.8\n",
      "Cbc0038I Reduced cost fixing fixed 30 variables on major pass 2\n",
      "Cbc0038I Pass   2: (3.00 seconds) suminf.   81.77896 (224) obj. 28515.8 iterations 3169\n",
      "Cbc0038I Pass   3: (3.14 seconds) suminf.    0.43825 (2) obj. 28515.8 iterations 777\n",
      "Cbc0038I Solution found of 28443\n",
      "Cbc0038I Before mini branch and bound, 5780 integers at bound fixed and 0 continuous\n",
      "Cbc0038I Full problem 6120 rows 6050 columns, reduced to 270 rows 235 columns\n",
      "Cbc0038I Mini branch and bound improved solution from 28443 to 27606 (3.28 seconds)\n",
      "Cbc0038I Round again with cutoff of 27505.9\n",
      "Cbc0038I Reduced cost fixing fixed 2272 variables on major pass 3\n",
      "Cbc0038I Pass   4: (3.44 seconds) suminf.   81.19932 (232) obj. 27505.9 iterations 380\n",
      "Cbc0038I Pass   5: (3.58 seconds) suminf.   26.56123 (204) obj. 27505.9 iterations 445\n",
      "Cbc0038I Pass   6: (3.61 seconds) suminf.   25.38535 (207) obj. 27505.9 iterations 74\n",
      "Cbc0038I Pass   7: (3.64 seconds) suminf.   21.33715 (207) obj. 27505.9 iterations 49\n",
      "Cbc0038I Pass   8: (3.67 seconds) suminf.   21.24406 (206) obj. 27505.9 iterations 20\n",
      "Cbc0038I Pass   9: (3.70 seconds) suminf.   21.29928 (204) obj. 27505.9 iterations 33\n",
      "Cbc0038I Pass  10: (3.73 seconds) suminf.   21.29928 (204) obj. 27505.9 iterations 33\n",
      "Cbc0038I Pass  11: (3.77 seconds) suminf.   21.30513 (203) obj. 27505.9 iterations 45\n",
      "Cbc0038I Pass  12: (3.80 seconds) suminf.   24.07157 (202) obj. 27505.9 iterations 80\n",
      "Cbc0038I Pass  13: (3.83 seconds) suminf.   21.23272 (204) obj. 27505.9 iterations 62\n",
      "Cbc0038I Pass  14: (3.86 seconds) suminf.   21.23272 (204) obj. 27505.9 iterations 2\n",
      "Cbc0038I Pass  15: (3.89 seconds) suminf.   21.28829 (202) obj. 27505.9 iterations 33\n",
      "Cbc0038I Pass  16: (3.91 seconds) suminf.   21.30513 (203) obj. 27505.9 iterations 27\n",
      "Cbc0038I Pass  17: (3.94 seconds) suminf.   21.29408 (201) obj. 27505.9 iterations 44\n",
      "Cbc0038I Pass  18: (3.98 seconds) suminf.   23.79296 (202) obj. 27505.9 iterations 39\n",
      "Cbc0038I Pass  19: (4.02 seconds) suminf.   20.44403 (201) obj. 27505.9 iterations 52\n",
      "Cbc0038I Pass  20: (4.05 seconds) suminf.   20.30132 (204) obj. 27505.9 iterations 48\n",
      "Cbc0038I Pass  21: (4.08 seconds) suminf.   20.35559 (202) obj. 27505.9 iterations 38\n",
      "Cbc0038I Pass  22: (4.09 seconds) suminf.   20.36206 (201) obj. 27505.9 iterations 38\n",
      "Cbc0038I Pass  23: (4.12 seconds) suminf.   21.46171 (202) obj. 27505.9 iterations 39\n",
      "Cbc0038I Pass  24: (4.16 seconds) suminf.   21.40766 (204) obj. 27505.9 iterations 42\n",
      "Cbc0038I Pass  25: (4.19 seconds) suminf.   21.46171 (202) obj. 27505.9 iterations 53\n",
      "Cbc0038I Pass  26: (4.22 seconds) suminf.   23.20006 (203) obj. 27505.9 iterations 35\n",
      "Cbc0038I Pass  27: (4.27 seconds) suminf.   23.13699 (206) obj. 27505.9 iterations 40\n",
      "Cbc0038I Pass  28: (4.30 seconds) suminf.   23.19524 (204) obj. 27505.9 iterations 37\n",
      "Cbc0038I Pass  29: (4.33 seconds) suminf.   22.11431 (203) obj. 27505.9 iterations 36\n",
      "Cbc0038I Pass  30: (4.36 seconds) suminf.   22.04835 (206) obj. 27505.9 iterations 42\n",
      "Cbc0038I Pass  31: (4.39 seconds) suminf.   22.10708 (204) obj. 27505.9 iterations 39\n",
      "Cbc0038I Pass  32: (4.42 seconds) suminf.   22.11725 (206) obj. 27505.9 iterations 33\n",
      "Cbc0038I Pass  33: (4.45 seconds) suminf.   22.21210 (205) obj. 27505.9 iterations 48\n",
      "Cbc0038I No solution found this major pass\n",
      "Cbc0038I Before mini branch and bound, 5799 integers at bound fixed and 0 continuous\n",
      "Cbc0038I Full problem 6120 rows 6050 columns, reduced to 245 rows 200 columns\n",
      "Cbc0038I Mini branch and bound did not improve solution (4.55 seconds)\n",
      "Cbc0038I After 4.55 seconds - Feasibility pump exiting with objective of 27606 - took 3.48 seconds\n",
      "Cbc0012I Integer solution of 27606 found by feasibility pump after 0 iterations and 0 nodes (4.55 seconds)\n",
      "Cbc0038I Full problem 6120 rows 6050 columns, reduced to 183 rows 128 columns\n",
      "Cbc0031I 8 added rows had average density of 122.875\n",
      "Cbc0013I At root node, 8 cuts changed objective from 27109.5 to 27320.5 in 7 passes\n",
      "Cbc0014I Cut generator 0 (Probing) - 0 row cuts average 0.0 elements, 0 column cuts (0 active)  in 0.312 seconds - new frequency is -100\n",
      "Cbc0014I Cut generator 1 (Gomory) - 0 row cuts average 0.0 elements, 0 column cuts (0 active)  in 0.234 seconds - new frequency is -100\n",
      "Cbc0014I Cut generator 2 (Knapsack) - 0 row cuts average 0.0 elements, 0 column cuts (0 active)  in 0.062 seconds - new frequency is -100\n",
      "Cbc0014I Cut generator 3 (Clique) - 0 row cuts average 0.0 elements, 0 column cuts (0 active)  in 0.000 seconds - new frequency is -100\n",
      "Cbc0014I Cut generator 4 (MixedIntegerRounding2) - 0 row cuts average 0.0 elements, 0 column cuts (0 active)  in 0.062 seconds - new frequency is -100\n",
      "Cbc0014I Cut generator 5 (FlowCover) - 0 row cuts average 0.0 elements, 0 column cuts (0 active)  in 0.016 seconds - new frequency is -100\n",
      "Cbc0014I Cut generator 6 (TwoMirCuts) - 271 row cuts average 141.1 elements, 0 column cuts (0 active)  in 0.406 seconds - new frequency is 1\n",
      "Cbc0010I After 0 nodes, 1 on tree, 27606 best solution, best possible 27514.556 (6.39 seconds)\n",
      "Cbc0001I Search completed - best objective 27606, took 802 iterations and 4 nodes (6.98 seconds)\n",
      "Cbc0032I Strong branching done 50 times (2864 iterations), fathomed 1 nodes and fixed 4 variables\n",
      "Cbc0035I Maximum depth 1, 3975 variables fixed on reduced cost\n",
      "Cuts at root node changed objective from 27109.5 to 27514.6\n",
      "Probing was tried 7 times and created 0 cuts of which 0 were active after adding rounds of cuts (0.312 seconds)\n",
      "Gomory was tried 7 times and created 0 cuts of which 0 were active after adding rounds of cuts (0.234 seconds)\n",
      "Knapsack was tried 7 times and created 0 cuts of which 0 were active after adding rounds of cuts (0.062 seconds)\n",
      "Clique was tried 7 times and created 0 cuts of which 0 were active after adding rounds of cuts (0.000 seconds)\n",
      "MixedIntegerRounding2 was tried 7 times and created 0 cuts of which 0 were active after adding rounds of cuts (0.062 seconds)\n",
      "FlowCover was tried 7 times and created 0 cuts of which 0 were active after adding rounds of cuts (0.016 seconds)\n",
      "TwoMirCuts was tried 9 times and created 271 cuts of which 0 were active after adding rounds of cuts (0.516 seconds)\n",
      "\n",
      "Result - Optimal solution found\n",
      "\n",
      "Objective value:                27606.00000000\n",
      "Enumerated nodes:               4\n",
      "Total iterations:               802\n",
      "Time (CPU seconds):             7.03\n",
      "Time (Wallclock seconds):       7.12\n",
      "\n",
      "Total time (CPU seconds):       7.03   (Wallclock seconds):       7.12\n",
      "\n"
     ]
    }
   ],
   "source": [
    "optimize!(model_ext)"
   ]
  },
  {
   "cell_type": "markdown",
   "metadata": {},
   "source": [
    "## Capacitated Facility location\n",
    "\n",
    "* Each client $i$ has a demand $a_{i}$, and each facility has a capacity $q_{j}$"
   ]
  },
  {
   "cell_type": "markdown",
   "metadata": {},
   "source": [
    "# Tests"
   ]
  },
  {
   "cell_type": "code",
   "execution_count": 49,
   "metadata": {},
   "outputs": [
    {
     "data": {
      "text/plain": [
       "A LinQuadOptInterface model with backend:\n",
       "Prob(Ptr{Nothing} @0x0000000006b21f00)"
      ]
     },
     "execution_count": 49,
     "metadata": {},
     "output_type": "execute_result"
    }
   ],
   "source": [
    "optimizer = GLPK.Optimizer()"
   ]
  },
  {
   "cell_type": "code",
   "execution_count": 54,
   "metadata": {},
   "outputs": [
    {
     "data": {
      "text/plain": [
       "false"
      ]
     },
     "execution_count": 54,
     "metadata": {},
     "output_type": "execute_result"
    }
   ],
   "source": [
    "typeof(optimizer) <: MOI.Utilities.CachingOptimizer"
   ]
  },
  {
   "cell_type": "code",
   "execution_count": 60,
   "metadata": {},
   "outputs": [
    {
     "data": {
      "text/plain": [
       "OptimizerFactory(GLPK.Optimizer, (), Base.Iterators.Pairs{Union{},Union{},Tuple{},NamedTuple{(),Tuple{}}}())"
      ]
     },
     "execution_count": 60,
     "metadata": {},
     "output_type": "execute_result"
    }
   ],
   "source": [
    "factory = with_optimizer(GLPK.Optimizer)"
   ]
  }
 ],
 "metadata": {
  "kernelspec": {
   "display_name": "Julia 1.0.2",
   "language": "julia",
   "name": "julia-1.0"
  },
  "language_info": {
   "file_extension": ".jl",
   "mimetype": "application/julia",
   "name": "julia",
   "version": "1.0.2"
  }
 },
 "nbformat": 4,
 "nbformat_minor": 2
}
